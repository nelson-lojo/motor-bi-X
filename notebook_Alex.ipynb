{
 "cells": [
  {
   "cell_type": "code",
   "execution_count": 37,
   "id": "90ea4e24",
   "metadata": {},
   "outputs": [],
   "source": [
    "# import all libraries\n",
    "import numpy as np\n",
    "import pandas as pd\n",
    "import matplotlib.pyplot as plt \n",
    "import re\n",
    "from lib.preprocessing import *\n",
    "\n",
    "import sklearn\n",
    "from sklearn.preprocessing import MinMaxScaler\n",
    "from sklearn.preprocessing import PolynomialFeatures\n",
    "from sklearn.preprocessing import scale\n",
    "from sklearn.feature_selection import RFECV\n",
    "from sklearn.linear_model import LinearRegression\n",
    "from sklearn.model_selection import cross_val_score\n",
    "from sklearn.preprocessing import StandardScaler\n",
    "from sklearn.linear_model import RidgeCV\n",
    "from sklearn.linear_model import LassoCV\n",
    "from sklearn.linear_model import Ridge, Lasso\n",
    "from sklearn.model_selection import LeaveOneOut\n",
    "\n",
    "from sklearn.metrics import mean_absolute_error\n",
    "\n",
    "import warnings # supress warnings\n",
    "warnings.filterwarnings('ignore')"
   ]
  },
  {
   "cell_type": "code",
   "execution_count": 38,
   "id": "262c0b0b",
   "metadata": {},
   "outputs": [],
   "source": [
    "riders = pd.read_csv(\"data/riders.csv\")\n",
    "sampsub = pd.read_csv(\"data/sample_submission.csv\")\n",
    "test = pd.read_csv(\"data/test.csv\")\n",
    "clean = load_sample(sql_db=\"data/cleaned_alex_emily_nelson.db\")"
   ]
  },
  {
   "cell_type": "code",
   "execution_count": 39,
   "id": "f2db6f6a",
   "metadata": {},
   "outputs": [],
   "source": [
    "clean.drop([\"Vehicle Type\"], axis=1, inplace=True)"
   ]
  },
  {
   "cell_type": "code",
   "execution_count": 40,
   "id": "b05fdd41",
   "metadata": {},
   "outputs": [],
   "source": [
    "def get_seconds_from_dt_series(series: pd.Series) -> pd.Series:\n",
    "        return pd.to_datetime(series).dt.hour * 3600 + pd.to_datetime(series).dt.minute * 60 + pd.to_datetime(series).dt.second\n",
    "    \n",
    "clean[\"Placement - Time\"]=get_seconds_from_dt_series(clean[\"Placement - Time\"])\n",
    "clean[\"Confirmation - Time\"]=get_seconds_from_dt_series(clean[\"Confirmation - Time\"])\n",
    "clean[\"Arrival at Pickup - Time\"]=get_seconds_from_dt_series(clean[\"Arrival at Pickup - Time\"])\n",
    "clean[\"Pickup - Time\"]=get_seconds_from_dt_series(clean[\"Pickup - Time\"])\n",
    "clean_one = pd.get_dummies(clean[\"Personal or Business\"])"
   ]
  },
  {
   "cell_type": "code",
   "execution_count": 41,
   "id": "476c57d0",
   "metadata": {},
   "outputs": [],
   "source": [
    "# display result\n",
    "clean = pd.concat((clean_one, clean), axis=1)\n",
    "clean = clean.drop([\"Personal or Business\"], axis=1)\n",
    "clean = clean.drop([\"Personal\"], axis=1)\n",
    "clean = clean.rename(columns={\"Business\": \"Personal or Business\"})"
   ]
  },
  {
   "cell_type": "code",
   "execution_count": 47,
   "id": "67767e11",
   "metadata": {},
   "outputs": [],
   "source": [
    "# Scaling data\n",
    "scaler = StandardScaler()\n",
    "X = scaler.fit_transform(clean[clean.columns[clean.columns!='Time from Pickup to Arrival']]) # all columns except time from pickup to arrival\n",
    "X = pd.DataFrame(X, columns = clean.columns[clean.columns!='Time from Pickup to Arrival']) # save to dataframe"
   ]
  },
  {
   "cell_type": "code",
   "execution_count": 48,
   "id": "0dad4e17",
   "metadata": {},
   "outputs": [
    {
     "name": "stdout",
     "output_type": "stream",
     "text": [
      "Ideal: nan\n"
     ]
    }
   ],
   "source": [
    "def get_model():\n",
    "    model=Lasso()\n",
    "    return model\n",
    "\n",
    "def eval_model(cv):\n",
    "    model=get_model()\n",
    "    scores=cross_val_score(model, X, clean[\"Time from Pickup to Arrival\"], scoring=\"accuracy\", cv=cv, n_jobs=-1)\n",
    "    return np.mean(scores), scores.min(), scores.max()\n",
    "ideal, _, _ = eval_model(LeaveOneOut())\n",
    "print('Ideal: %.3f' % ideal)"
   ]
  },
  {
   "cell_type": "code",
   "execution_count": 46,
   "id": "96d1f560",
   "metadata": {},
   "outputs": [
    {
     "data": {
      "text/plain": [
       "nan"
      ]
     },
     "execution_count": 46,
     "metadata": {},
     "output_type": "execute_result"
    }
   ],
   "source": []
  },
  {
   "cell_type": "code",
   "execution_count": 22,
   "id": "dad81e76",
   "metadata": {},
   "outputs": [],
   "source": [
    "# fitting model\n",
    "#olsmod = LinearRegression()\n",
    "#olsmod.fit(X=X, y=clean[\"Time from Pickup to Arrival\"])\n",
    "#pd.Series(olsmod.coef_, index=X.columns).sort_values()"
   ]
  },
  {
   "cell_type": "code",
   "execution_count": 23,
   "id": "07a47de5",
   "metadata": {},
   "outputs": [],
   "source": [
    "# recursive feature elimination\n",
    "#rfe = RFECV(estimator=olsmod, cv=100, scoring=\"neg_mean_squared_error\")\n",
    "#rfe.fit(X=X, y=clean[\"Time from Pickup to Arrival\"])\n",
    "#print('Selected', rfe.n_features_, 'features:')\n",
    "#X.columns[rfe.support_]"
   ]
  },
  {
   "cell_type": "code",
   "execution_count": 24,
   "id": "ebee4888",
   "metadata": {},
   "outputs": [],
   "source": [
    "# Ridge Regression\n",
    "#ridge=RidgeCV(alphas=[0.1, 1.0, 10.0], scoring=\"neg_mean_squared_error\", cv=100)\n",
    "#ridge.fit(X=X, y=clean[\"Time from Pickup to Arrival\"])"
   ]
  },
  {
   "cell_type": "code",
   "execution_count": 25,
   "id": "312e41bf",
   "metadata": {},
   "outputs": [],
   "source": [
    "#ridge.alpha_"
   ]
  },
  {
   "cell_type": "code",
   "execution_count": 26,
   "id": "25748966",
   "metadata": {},
   "outputs": [],
   "source": [
    "#pd.DataFrame({\n",
    "#    'ols':olsmod.coef_, 'ridge':ridge.coef_\n",
    "#}, index=X.columns)"
   ]
  },
  {
   "cell_type": "code",
   "execution_count": 27,
   "id": "597597dc",
   "metadata": {},
   "outputs": [],
   "source": [
    "#lasso = LassoCV(n_alphas=100, cv=100)\n",
    "#lasso.fit(X=X, y=clean[\"Time from Pickup to Arrival\"])"
   ]
  },
  {
   "cell_type": "code",
   "execution_count": 28,
   "id": "95a04d73",
   "metadata": {},
   "outputs": [],
   "source": [
    "#lasso.alpha_"
   ]
  },
  {
   "cell_type": "code",
   "execution_count": 29,
   "id": "07005c86",
   "metadata": {},
   "outputs": [],
   "source": [
    "#pd.Series(lasso.coef_, index=X.columns)"
   ]
  },
  {
   "cell_type": "code",
   "execution_count": 30,
   "id": "44c4ce77",
   "metadata": {},
   "outputs": [],
   "source": [
    "#ridge_best = Ridge(alpha=ridge.alpha_)\n",
    "#lasso_best = Lasso(alpha=lasso.alpha_)\n",
    "#cv_ols = cross_val_score(estimator=olsmod, X=X, y=clean[\"Time from Pickup to Arrival\"], scoring=\"neg_mean_absolute_error\", cv=100)\n",
    "#cv_rfe = cross_val_score(estimator=olsmod, X=X[X.columns[rfe.support_]], y=clean[\"Time from Pickup to Arrival\"], scoring=\"neg_mean_absolute_error\", cv=100)\n",
    "#cv_ridge = cross_val_score(estimator=ridge_best, X=X, y=clean[\"Time from Pickup to Arrival\"], scoring=\"neg_mean_absolute_error\", cv=100)\n",
    "#cv_lasso = cross_val_score(estimator=lasso_best, X=X, y=clean[\"Time from Pickup to Arrival\"], scoring=\"neg_mean_absolute_error\", cv=100)\n",
    "\n",
    "#print('OLS MAE:', -cv_ols.mean())\n",
    "#print('RFE MAE:', -cv_rfe.mean())\n",
    "#print('Ridge MAE:', -cv_ridge.mean())\n",
    "#print('Lasso MAE:', -cv_lasso.mean())"
   ]
  },
  {
   "cell_type": "markdown",
   "id": "1dd701c4",
   "metadata": {},
   "source": [
    "# Data Demolition"
   ]
  },
  {
   "cell_type": "markdown",
   "id": "d6a7a99e",
   "metadata": {},
   "source": [
    "How would our regressions be affected if we demolished some data?\n",
    "### Oh I'm glad you asked!"
   ]
  },
  {
   "cell_type": "code",
   "execution_count": 17,
   "id": "cbed3bba",
   "metadata": {},
   "outputs": [],
   "source": [
    "demo = clean"
   ]
  },
  {
   "cell_type": "code",
   "execution_count": 25,
   "id": "53c3b520",
   "metadata": {},
   "outputs": [
    {
     "data": {
      "text/plain": [
       "0       14.6\n",
       "1       14.3\n",
       "2       14.4\n",
       "3       14.4\n",
       "4       13.8\n",
       "        ... \n",
       "2115    12.7\n",
       "2116    14.2\n",
       "2117    14.3\n",
       "2118    13.8\n",
       "2119    14.2\n",
       "Name: average_rating, Length: 2120, dtype: float64"
      ]
     },
     "execution_count": 25,
     "metadata": {},
     "output_type": "execute_result"
    }
   ],
   "source": [
    "demo.dtypes\n",
    "demo.average_rating"
   ]
  },
  {
   "cell_type": "code",
   "execution_count": 20,
   "id": "35d1ac8d",
   "metadata": {},
   "outputs": [],
   "source": [
    "demo=demo.drop(columns=[\"Temperature\", \"rider_id\", \"age\"]) # dropped randomly selected columns"
   ]
  },
  {
   "cell_type": "code",
   "execution_count": 23,
   "id": "18ed6e29",
   "metadata": {},
   "outputs": [
    {
     "name": "stdout",
     "output_type": "stream",
     "text": [
      "Lasso MSE: 545.0075482121848\n"
     ]
    }
   ],
   "source": [
    "# Scaling data\n",
    "scaler = StandardScaler()\n",
    "X = scaler.fit_transform(demo[demo.columns[demo.columns!='Time from Pickup to Arrival']]) # all columns except time from pickup to arrival\n",
    "X = pd.DataFrame(X, columns = demo.columns[demo.columns!='Time from Pickup to Arrival']) # save to dataframe\n",
    "lasso = LassoCV(n_alphas=100, cv=100)\n",
    "lasso.fit(X=X, y=demo[\"Time from Pickup to Arrival\"])\n",
    "lasso_best = Lasso(alpha=lasso.alpha_)\n",
    "\n",
    "cv_lasso = cross_val_score(estimator=lasso_best, X=X, y=demo[\"Time from Pickup to Arrival\"], scoring=\"neg_mean_absolute_error\", cv=100)\n",
    "print('Lasso MAE:', -cv_lasso.mean())"
   ]
  },
  {
   "cell_type": "markdown",
   "id": "01074288",
   "metadata": {},
   "source": [
    "Ah! Our model is only damaged by an additional error of 0.12011698723! These columns must not have been very influential-- let's drop some more influential ones."
   ]
  },
  {
   "cell_type": "code",
   "execution_count": 26,
   "id": "524338c2",
   "metadata": {},
   "outputs": [],
   "source": [
    "demo=clean\n",
    "demo=demo.drop(columns=[\"Distance (KM)\", \"orders\", \"average_rating\"]) # dropped randomly selected columns"
   ]
  },
  {
   "cell_type": "code",
   "execution_count": 27,
   "id": "9fb9859e",
   "metadata": {},
   "outputs": [
    {
     "name": "stdout",
     "output_type": "stream",
     "text": [
      "Lasso MSE: 742.0418242996093\n"
     ]
    }
   ],
   "source": [
    "# Scaling data\n",
    "scaler = StandardScaler()\n",
    "X = scaler.fit_transform(demo[demo.columns[demo.columns!='Time from Pickup to Arrival']]) # all columns except time from pickup to arrival\n",
    "X = pd.DataFrame(X, columns = demo.columns[demo.columns!='Time from Pickup to Arrival']) # save to dataframe\n",
    "lasso = LassoCV(n_alphas=100, cv=100)\n",
    "lasso.fit(X=X, y=demo[\"Time from Pickup to Arrival\"]\n",
    "lasso_best = Lasso(alpha=lasso.alpha_)\n",
    "\n",
    "cv_lasso = cross_val_score(estimator=lasso_best, X=X, y=demo[\"Time from Pickup to Arrival\"], scoring=\"neg_mean_absolute_error\", cv=100)\n",
    "print('Lasso MSE:', -cv_lasso.mean())"
   ]
  },
  {
   "cell_type": "markdown",
   "id": "7b6b1261",
   "metadata": {},
   "source": [
    "There we go-- an increase in error of 197.154393075. These must be greatly impactful.\n",
    "\n",
    "What if we passed these through sin functions? "
   ]
  },
  {
   "cell_type": "code",
   "execution_count": 40,
   "id": "2f29daa9",
   "metadata": {},
   "outputs": [
    {
     "name": "stdout",
     "output_type": "stream",
     "text": [
      "Lasso MAE: 0.6397024786433453\n"
     ]
    }
   ],
   "source": [
    "demo = clean\n",
    "sin: np.sin\n",
    "demo=demo.apply(np.sin, columns=[\"Distance (KM)\", \"orders\", \"average_rating\"])\n",
    "# Scaling data\n",
    "scaler = StandardScaler()\n",
    "X = scaler.fit_transform(demo[demo.columns[demo.columns!='Time from Pickup to Arrival']]) # all columns except time from pickup to arrival\n",
    "X = pd.DataFrame(X, columns = demo.columns[demo.columns!='Time from Pickup to Arrival']) # save to dataframe\n",
    "lasso = LassoCV(n_alphas=100, cv=100)\n",
    "lasso.fit(X=X, y=demo[\"Time from Pickup to Arrival\"])\n",
    "lasso_best = Lasso(alpha=lasso.alpha_)\n",
    "\n",
    "cv_lasso = cross_val_score(estimator=lasso_best, X=X, y=demo[\"Time from Pickup to Arrival\"], scoring=\"neg_mean_absolute_error\", cv=100)\n",
    "print('Lasso MAE:', -cv_lasso.mean())"
   ]
  },
  {
   "cell_type": "markdown",
   "id": "bc066a84",
   "metadata": {},
   "source": [
    "Woah! Dropped dramatically. "
   ]
  }
 ],
 "metadata": {
  "kernelspec": {
   "display_name": "Python 3 (ipykernel)",
   "language": "python",
   "name": "python3"
  },
  "language_info": {
   "codemirror_mode": {
    "name": "ipython",
    "version": 3
   },
   "file_extension": ".py",
   "mimetype": "text/x-python",
   "name": "python",
   "nbconvert_exporter": "python",
   "pygments_lexer": "ipython3",
   "version": "3.9.13"
  }
 },
 "nbformat": 4,
 "nbformat_minor": 5
}
