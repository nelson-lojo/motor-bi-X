{
 "cells": [
  {
   "cell_type": "code",
   "execution_count": 25,
   "id": "8b546ff1",
   "metadata": {},
   "outputs": [],
   "source": [
    "import pandas as pd\n",
    "import seaborn as sns\n",
    "from lib.preprocessing import *"
   ]
  },
  {
   "cell_type": "code",
   "execution_count": 8,
   "id": "e68b04db",
   "metadata": {},
   "outputs": [],
   "source": [
    "riders = pd.read_csv('data/riders.csv')\n",
    "train = pd.read_csv('data/train_full.csv')"
   ]
  },
  {
   "cell_type": "code",
   "execution_count": 26,
   "id": "f02e909d",
   "metadata": {},
   "outputs": [],
   "source": [
    "data = load_sample(percentage = 1, sql_db='data/cleaned_nelson.db')"
   ]
  },
  {
   "cell_type": "code",
   "execution_count": null,
   "id": "e6132d4a",
   "metadata": {},
   "outputs": [],
   "source": []
  },
  {
   "cell_type": "code",
   "execution_count": 27,
   "id": "3116cc49",
   "metadata": {},
   "outputs": [],
   "source": [
    "data.rename(columns={'Order No': 'Order_No'}, inplace=True)"
   ]
  },
  {
   "cell_type": "code",
   "execution_count": 28,
   "id": "86ba5bd4",
   "metadata": {},
   "outputs": [],
   "source": [
    "data['Order_No'] = data['Order_No'].str.replace('Order_No_', '')"
   ]
  },
  {
   "cell_type": "code",
   "execution_count": 29,
   "id": "58f8f317",
   "metadata": {},
   "outputs": [],
   "source": [
    "data['Order_No'] = data['Order_No'].astype(int)"
   ]
  },
  {
   "cell_type": "code",
   "execution_count": 30,
   "id": "893e64e8",
   "metadata": {},
   "outputs": [],
   "source": [
    "data.rename(columns={'User Id': 'User_Id'}, inplace=True)\n",
    "data['User_Id'] = data['User_Id'].str.replace('User_Id_', '')\n",
    "data['User_Id'] = data['User_Id'].astype(int)"
   ]
  },
  {
   "cell_type": "code",
   "execution_count": 31,
   "id": "5e7e4c44",
   "metadata": {},
   "outputs": [],
   "source": [
    "data.rename(columns={'Rider Id': 'Rider_Id'}, inplace=True)\n",
    "data['Rider_Id'] = data['Rider_Id'].str.replace('Rider_Id_', '')\n",
    "data['Rider_Id'] = data['Rider_Id'].astype(int)"
   ]
  },
  {
   "cell_type": "code",
   "execution_count": 32,
   "id": "2a569f33",
   "metadata": {},
   "outputs": [
    {
     "data": {
      "text/html": [
       "<div>\n",
       "<style scoped>\n",
       "    .dataframe tbody tr th:only-of-type {\n",
       "        vertical-align: middle;\n",
       "    }\n",
       "\n",
       "    .dataframe tbody tr th {\n",
       "        vertical-align: top;\n",
       "    }\n",
       "\n",
       "    .dataframe thead th {\n",
       "        text-align: right;\n",
       "    }\n",
       "</style>\n",
       "<table border=\"1\" class=\"dataframe\">\n",
       "  <thead>\n",
       "    <tr style=\"text-align: right;\">\n",
       "      <th></th>\n",
       "      <th>index</th>\n",
       "      <th>Order_No</th>\n",
       "      <th>User_Id</th>\n",
       "      <th>Vehicle Type</th>\n",
       "      <th>Platform Type</th>\n",
       "      <th>Personal or Business</th>\n",
       "      <th>Placement - Day of Month</th>\n",
       "      <th>Placement - Weekday (Mo = 1)</th>\n",
       "      <th>Placement - Time</th>\n",
       "      <th>Confirmation - Time</th>\n",
       "      <th>...</th>\n",
       "      <th>Distance (KM)</th>\n",
       "      <th>Temperature</th>\n",
       "      <th>Pickup Lat</th>\n",
       "      <th>Pickup Long</th>\n",
       "      <th>Destination Lat</th>\n",
       "      <th>Destination Long</th>\n",
       "      <th>Rider_Id</th>\n",
       "      <th>Time from Pickup to Arrival</th>\n",
       "      <th>Fulfillment - Weekday (Su = 0)</th>\n",
       "      <th>Fulfillment - Day of Month</th>\n",
       "    </tr>\n",
       "  </thead>\n",
       "  <tbody>\n",
       "    <tr>\n",
       "      <th>0</th>\n",
       "      <td>3494</td>\n",
       "      <td>26008</td>\n",
       "      <td>53</td>\n",
       "      <td>Bike</td>\n",
       "      <td>3</td>\n",
       "      <td>Business</td>\n",
       "      <td>27</td>\n",
       "      <td>3</td>\n",
       "      <td>750</td>\n",
       "      <td>12:31:54 PM</td>\n",
       "      <td>...</td>\n",
       "      <td>5</td>\n",
       "      <td>26.1</td>\n",
       "      <td>-1.300406</td>\n",
       "      <td>36.829741</td>\n",
       "      <td>-1.277071</td>\n",
       "      <td>36.823109</td>\n",
       "      <td>603</td>\n",
       "      <td>1226</td>\n",
       "      <td>3</td>\n",
       "      <td>27</td>\n",
       "    </tr>\n",
       "    <tr>\n",
       "      <th>1</th>\n",
       "      <td>397</td>\n",
       "      <td>4918</td>\n",
       "      <td>393</td>\n",
       "      <td>Bike</td>\n",
       "      <td>3</td>\n",
       "      <td>Business</td>\n",
       "      <td>5</td>\n",
       "      <td>2</td>\n",
       "      <td>530</td>\n",
       "      <td>8:50:57 AM</td>\n",
       "      <td>...</td>\n",
       "      <td>14</td>\n",
       "      <td>21.2</td>\n",
       "      <td>-1.316711</td>\n",
       "      <td>36.830156</td>\n",
       "      <td>-1.306378</td>\n",
       "      <td>36.751984</td>\n",
       "      <td>619</td>\n",
       "      <td>2</td>\n",
       "      <td>2</td>\n",
       "      <td>5</td>\n",
       "    </tr>\n",
       "    <tr>\n",
       "      <th>2</th>\n",
       "      <td>5007</td>\n",
       "      <td>3991</td>\n",
       "      <td>2989</td>\n",
       "      <td>Bike</td>\n",
       "      <td>3</td>\n",
       "      <td>Business</td>\n",
       "      <td>24</td>\n",
       "      <td>1</td>\n",
       "      <td>899</td>\n",
       "      <td>3:09:56 PM</td>\n",
       "      <td>...</td>\n",
       "      <td>15</td>\n",
       "      <td>24.8</td>\n",
       "      <td>-1.347207</td>\n",
       "      <td>36.769264</td>\n",
       "      <td>-1.259102</td>\n",
       "      <td>36.800577</td>\n",
       "      <td>925</td>\n",
       "      <td>1306</td>\n",
       "      <td>1</td>\n",
       "      <td>24</td>\n",
       "    </tr>\n",
       "    <tr>\n",
       "      <th>3</th>\n",
       "      <td>6555</td>\n",
       "      <td>22661</td>\n",
       "      <td>2445</td>\n",
       "      <td>Bike</td>\n",
       "      <td>2</td>\n",
       "      <td>Personal</td>\n",
       "      <td>11</td>\n",
       "      <td>2</td>\n",
       "      <td>555</td>\n",
       "      <td>9:18:17 AM</td>\n",
       "      <td>...</td>\n",
       "      <td>5</td>\n",
       "      <td>18.5</td>\n",
       "      <td>-1.256468</td>\n",
       "      <td>36.773083</td>\n",
       "      <td>-1.266423</td>\n",
       "      <td>36.745367</td>\n",
       "      <td>179</td>\n",
       "      <td>328</td>\n",
       "      <td>2</td>\n",
       "      <td>11</td>\n",
       "    </tr>\n",
       "    <tr>\n",
       "      <th>4</th>\n",
       "      <td>11019</td>\n",
       "      <td>6291</td>\n",
       "      <td>2150</td>\n",
       "      <td>Bike</td>\n",
       "      <td>3</td>\n",
       "      <td>Business</td>\n",
       "      <td>2</td>\n",
       "      <td>3</td>\n",
       "      <td>596</td>\n",
       "      <td>9:57:04 AM</td>\n",
       "      <td>...</td>\n",
       "      <td>15</td>\n",
       "      <td>20.2</td>\n",
       "      <td>-1.265715</td>\n",
       "      <td>36.823815</td>\n",
       "      <td>-1.344446</td>\n",
       "      <td>36.756597</td>\n",
       "      <td>886</td>\n",
       "      <td>1177</td>\n",
       "      <td>3</td>\n",
       "      <td>2</td>\n",
       "    </tr>\n",
       "  </tbody>\n",
       "</table>\n",
       "<p>5 rows × 22 columns</p>\n",
       "</div>"
      ],
      "text/plain": [
       "   index  Order_No  User_Id Vehicle Type  Platform Type Personal or Business  \\\n",
       "0   3494     26008       53         Bike              3             Business   \n",
       "1    397      4918      393         Bike              3             Business   \n",
       "2   5007      3991     2989         Bike              3             Business   \n",
       "3   6555     22661     2445         Bike              2             Personal   \n",
       "4  11019      6291     2150         Bike              3             Business   \n",
       "\n",
       "   Placement - Day of Month  Placement - Weekday (Mo = 1)  Placement - Time  \\\n",
       "0                        27                             3               750   \n",
       "1                         5                             2               530   \n",
       "2                        24                             1               899   \n",
       "3                        11                             2               555   \n",
       "4                         2                             3               596   \n",
       "\n",
       "  Confirmation - Time  ... Distance (KM) Temperature  Pickup Lat  Pickup Long  \\\n",
       "0         12:31:54 PM  ...             5        26.1   -1.300406    36.829741   \n",
       "1          8:50:57 AM  ...            14        21.2   -1.316711    36.830156   \n",
       "2          3:09:56 PM  ...            15        24.8   -1.347207    36.769264   \n",
       "3          9:18:17 AM  ...             5        18.5   -1.256468    36.773083   \n",
       "4          9:57:04 AM  ...            15        20.2   -1.265715    36.823815   \n",
       "\n",
       "   Destination Lat  Destination Long  Rider_Id  Time from Pickup to Arrival  \\\n",
       "0        -1.277071         36.823109       603                         1226   \n",
       "1        -1.306378         36.751984       619                            2   \n",
       "2        -1.259102         36.800577       925                         1306   \n",
       "3        -1.266423         36.745367       179                          328   \n",
       "4        -1.344446         36.756597       886                         1177   \n",
       "\n",
       "   Fulfillment - Weekday (Su = 0)  Fulfillment - Day of Month  \n",
       "0                               3                          27  \n",
       "1                               2                           5  \n",
       "2                               1                          24  \n",
       "3                               2                          11  \n",
       "4                               3                           2  \n",
       "\n",
       "[5 rows x 22 columns]"
      ]
     },
     "execution_count": 32,
     "metadata": {},
     "output_type": "execute_result"
    }
   ],
   "source": [
    "data.head()"
   ]
  },
  {
   "cell_type": "code",
   "execution_count": 33,
   "id": "4b2b0925",
   "metadata": {},
   "outputs": [
    {
     "ename": "TypeError",
     "evalue": "save_data() missing 1 required positional argument: 'df'",
     "output_type": "error",
     "traceback": [
      "\u001b[0;31m---------------------------------------------------------------------------\u001b[0m",
      "\u001b[0;31mTypeError\u001b[0m                                 Traceback (most recent call last)",
      "Input \u001b[0;32mIn [33]\u001b[0m, in \u001b[0;36m<cell line: 1>\u001b[0;34m()\u001b[0m\n\u001b[0;32m----> 1\u001b[0m \u001b[43msave_data\u001b[49m\u001b[43m(\u001b[49m\u001b[43msql_db\u001b[49m\u001b[38;5;241;43m=\u001b[39;49m\u001b[38;5;124;43m'\u001b[39;49m\u001b[38;5;124;43mdata/cleaned_emily.db\u001b[39;49m\u001b[38;5;124;43m'\u001b[39;49m\u001b[43m)\u001b[49m\n",
      "\u001b[0;31mTypeError\u001b[0m: save_data() missing 1 required positional argument: 'df'"
     ]
    }
   ],
   "source": [
    "save_data(sql_db='data/cleaned_emily.db')"
   ]
  },
  {
   "cell_type": "code",
   "execution_count": 17,
   "id": "13900536",
   "metadata": {},
   "outputs": [
    {
     "data": {
      "text/plain": [
       "count    21201.000000\n",
       "mean     14111.248668\n",
       "std       8167.044271\n",
       "min          1.000000\n",
       "25%       7003.000000\n",
       "50%      14073.000000\n",
       "75%      21183.000000\n",
       "max      28268.000000\n",
       "Name: Order_No, dtype: float64"
      ]
     },
     "execution_count": 17,
     "metadata": {},
     "output_type": "execute_result"
    }
   ],
   "source": [
    "train['Order_No'].describe()\n"
   ]
  },
  {
   "cell_type": "code",
   "execution_count": null,
   "id": "c166e297",
   "metadata": {},
   "outputs": [],
   "source": []
  },
  {
   "cell_type": "code",
   "execution_count": 18,
   "id": "38313b64",
   "metadata": {},
   "outputs": [
    {
     "data": {
      "text/plain": [
       "count    21201.000000\n",
       "mean      1849.914910\n",
       "std       1138.956049\n",
       "min          0.000000\n",
       "25%        817.000000\n",
       "50%       1810.000000\n",
       "75%       2881.000000\n",
       "max       3781.000000\n",
       "Name: User_Id, dtype: float64"
      ]
     },
     "execution_count": 18,
     "metadata": {},
     "output_type": "execute_result"
    }
   ],
   "source": [
    "train['User_Id'].describe()"
   ]
  },
  {
   "cell_type": "code",
   "execution_count": null,
   "id": "4b9b512f",
   "metadata": {},
   "outputs": [],
   "source": []
  },
  {
   "cell_type": "code",
   "execution_count": 19,
   "id": "ca8edc5e",
   "metadata": {},
   "outputs": [
    {
     "data": {
      "text/plain": [
       "count    21201.000000\n",
       "mean       466.924390\n",
       "std        280.950952\n",
       "min          0.000000\n",
       "25%        208.000000\n",
       "50%        453.000000\n",
       "75%        709.000000\n",
       "max        959.000000\n",
       "Name: Rider_Id, dtype: float64"
      ]
     },
     "execution_count": 19,
     "metadata": {},
     "output_type": "execute_result"
    }
   ],
   "source": [
    "train['Rider_Id'].describe()"
   ]
  },
  {
   "cell_type": "code",
   "execution_count": 20,
   "id": "1c7ef2aa",
   "metadata": {},
   "outputs": [
    {
     "data": {
      "text/plain": [
       "<AxesSubplot:xlabel='Rider_Id', ylabel='Density'>"
      ]
     },
     "execution_count": 20,
     "metadata": {},
     "output_type": "execute_result"
    },
    {
     "data": {
      "image/png": "[encoded data removed]",
      "text/plain": [
       "<Figure size 432x288 with 1 Axes>"
      ]
     },
     "metadata": {
      "needs_background": "light"
     },
     "output_type": "display_data"
    }
   ],
   "source": [
    "sns.kdeplot(train['Rider_Id'])"
   ]
  },
  {
   "cell_type": "code",
   "execution_count": 24,
   "id": "23b8d078",
   "metadata": {},
   "outputs": [
    {
     "data": {
      "text/plain": [
       "[726    247\n",
       " 576    223\n",
       " 523    199\n",
       " 101    183\n",
       " 205    182\n",
       "       ... \n",
       " 165      1\n",
       " 859      1\n",
       " 664      1\n",
       " 78       1\n",
       " 53       1\n",
       " Name: Rider_Id, Length: 924, dtype: int64]"
      ]
     },
     "execution_count": 24,
     "metadata": {},
     "output_type": "execute_result"
    }
   ],
   "source": [
    "most_frequent_rider_ids = train['Rider_Id'].value_counts()\n",
    "most_frequent_rider_ids"
   ]
  },
  {
   "cell_type": "code",
   "execution_count": null,
   "id": "004ba164",
   "metadata": {},
   "outputs": [],
   "source": []
  }
 ],
 "metadata": {
  "kernelspec": {
   "display_name": "Python 3 (ipykernel)",
   "language": "python",
   "name": "python3"
  },
  "language_info": {
   "codemirror_mode": {
    "name": "ipython",
    "version": 3
   },
   "file_extension": ".py",
   "mimetype": "text/x-python",
   "name": "python",
   "nbconvert_exporter": "python",
   "pygments_lexer": "ipython3",
   "version": "3.9.12"
  }
 },
 "nbformat": 4,
 "nbformat_minor": 5
}
