{
 "cells": [
  {
   "cell_type": "code",
   "execution_count": null,
   "metadata": {},
   "outputs": [],
   "source": [
    "import pandas as pd\n",
    "from lib.preprocessing import *\n",
    "from lib.cleaning import *\n",
    "import seaborn as sns\n",
    "\n",
    "\n",
    "# from sklearn.experimental import enable_iterative_imputer\n",
    "# from sklearn.impute import IterativeImputer\n",
    "# from mpl_toolkits.basemap import Basemap\n",
    "# import matplotlib.pyplot as plt\n",
    "# %matplotlib inline\n",
    "# import missingno as msno"
   ]
  },
  {
   "attachments": {},
   "cell_type": "markdown",
   "metadata": {},
   "source": [
    "### Exploration"
   ]
  },
  {
   "cell_type": "code",
   "execution_count": null,
   "metadata": {},
   "outputs": [],
   "source": [
    "df = load_sample()"
   ]
  },
  {
   "cell_type": "code",
   "execution_count": null,
   "metadata": {},
   "outputs": [],
   "source": [
    "cols = pd.Series(df.columns.format())\n",
    "\n",
    "metrics = [\"Temperature\", \"Precipitation in millimeters\", \"Distance (KM)\"]  # 3 of these\n",
    "\n",
    "ids = pd.concat([cols.loc[cols.str.match(\".*Id.*\")], cols.loc[cols.str.match(\".*No.*\")]]) # 3 of these\n",
    "\n",
    "location = [\"Pickup Lat\", \"Pickup Long\", \"Destination Lat\", \"Destination Long\"] # 4 of these\n",
    "times = cols.loc[cols.str.match(\".*Time.*\")] # 6(actually 4) of these\n",
    "\n",
    "types = [\"Vehicle Type\", \"Platform Type\", \"Personal or Business\", ] # 3 of these\n"
   ]
  },
  {
   "cell_type": "code",
   "execution_count": null,
   "metadata": {},
   "outputs": [],
   "source": [
    "times"
   ]
  },
  {
   "cell_type": "code",
   "execution_count": null,
   "metadata": {},
   "outputs": [],
   "source": [
    "ids"
   ]
  },
  {
   "cell_type": "code",
   "execution_count": null,
   "metadata": {},
   "outputs": [],
   "source": [
    "desc = pd.read_csv(\"variable_definitions.csv\")\n",
    "desc"
   ]
  },
  {
   "attachments": {},
   "cell_type": "markdown",
   "metadata": {},
   "source": [
    "### Cleaning Data"
   ]
  },
  {
   "attachments": {},
   "cell_type": "markdown",
   "metadata": {},
   "source": [
    "#### Nelson cleaned data"
   ]
  },
  {
   "cell_type": "code",
   "execution_count": null,
   "metadata": {},
   "outputs": [],
   "source": [
    "df = load_sample(percentage=1, csv_file=\"data/train_full.csv\")\n",
    "df.head(3)"
   ]
  },
  {
   "cell_type": "code",
   "execution_count": null,
   "metadata": {},
   "outputs": [],
   "source": [
    "df = load_sample(percentage=1, csv_file=\"data/train_full.csv\")\n",
    "df = drops(df)\n",
    "df = impute_temperature(df)\n",
    "df = combine_weekdays(df)\n",
    "df.head(3)"
   ]
  },
  {
   "cell_type": "code",
   "execution_count": null,
   "metadata": {},
   "outputs": [],
   "source": [
    "df.loc[(df['Placement - Day of Month'] < df[\"Fulfillment - Day of Month\"])]"
   ]
  },
  {
   "cell_type": "code",
   "execution_count": null,
   "metadata": {},
   "outputs": [],
   "source": [
    "save_data(df, sql_db=\"data/cleaned_nelson.db\")"
   ]
  },
  {
   "attachments": {},
   "cell_type": "markdown",
   "metadata": {},
   "source": [
    "#### Merging Emily w/ Nelson"
   ]
  },
  {
   "cell_type": "code",
   "execution_count": null,
   "metadata": {},
   "outputs": [],
   "source": [
    "em = load_sample(percentage=1, sql_db=\"data/cleaned_emily.db\")"
   ]
  },
  {
   "cell_type": "code",
   "execution_count": null,
   "metadata": {},
   "outputs": [],
   "source": [
    "em = em.drop(columns=[\"level_0\", \"index\"]).rename({\n",
    "    \"Order_No\" : \"order_no\",\n",
    "    \"User_Id\" : \"user_id\",\n",
    "    \"Rider_Id\" : \"rider_id\"\n",
    "})"
   ]
  },
  {
   "cell_type": "code",
   "execution_count": null,
   "metadata": {},
   "outputs": [],
   "source": [
    "em.head(3)"
   ]
  },
  {
   "cell_type": "code",
   "execution_count": null,
   "metadata": {},
   "outputs": [],
   "source": [
    "save_data(em, sql_db=\"data/cleaned_emily_nelson.db\")"
   ]
  },
  {
   "attachments": {},
   "cell_type": "markdown",
   "metadata": {},
   "source": [
    "#### Merging Alex w/ Emily+Nelson"
   ]
  },
  {
   "cell_type": "code",
   "execution_count": null,
   "metadata": {},
   "outputs": [],
   "source": [
    "riders_clean = load_sample(percentage=1, sql_db=\"data/cleaned_Alex.db\")\n",
    "# riders_clean.rename({\"id\" : \"Rider_Id\"}, axis=1, inplace=True)\n",
    "riders_clean.drop(columns=\"index\", inplace=True)\n",
    "riders_clean[\"id\"] = riders_clean[\"id\"].astype(int)\n",
    "riders_clean.set_index(\"id\", inplace=True)\n",
    "riders_clean.head(3)\n",
    "# riders_clean.dtypes"
   ]
  },
  {
   "cell_type": "code",
   "execution_count": null,
   "metadata": {},
   "outputs": [],
   "source": [
    "other_clean = load_sample(percentage=1, sql_db=\"data/cleaned_emily_nelson.db\")\n",
    "other_clean.head(3)"
   ]
  },
  {
   "cell_type": "code",
   "execution_count": null,
   "metadata": {},
   "outputs": [],
   "source": [
    "cleaned_all = other_clean.join(riders_clean, on=\"Rider_Id\", rsuffix=\"_rider\").drop(columns=\"index\")"
   ]
  },
  {
   "cell_type": "code",
   "execution_count": null,
   "metadata": {},
   "outputs": [],
   "source": [
    "save_data(cleaned_all, sql_db=\"data/cleaned_alex_emily_nelson.db\")"
   ]
  },
  {
   "attachments": {},
   "cell_type": "markdown",
   "metadata": {},
   "source": [
    "### Model testing"
   ]
  },
  {
   "cell_type": "code",
   "execution_count": null,
   "metadata": {},
   "outputs": [],
   "source": []
  }
 ],
 "metadata": {
  "kernelspec": {
   "display_name": "base",
   "language": "python",
   "name": "python3"
  },
  "language_info": {
   "codemirror_mode": {
    "name": "ipython",
    "version": 3
   },
   "file_extension": ".py",
   "mimetype": "text/x-python",
   "name": "python",
   "nbconvert_exporter": "python",
   "pygments_lexer": "ipython3",
   "version": "3.10.10"
  },
  "orig_nbformat": 4
 },
 "nbformat": 4,
 "nbformat_minor": 2
}
