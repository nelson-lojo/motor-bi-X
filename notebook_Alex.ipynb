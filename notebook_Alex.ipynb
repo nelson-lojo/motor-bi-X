{
 "cells": [
  {
   "cell_type": "code",
   "execution_count": 34,
   "id": "90ea4e24",
   "metadata": {},
   "outputs": [],
   "source": [
    "# import all libraries\n",
    "import numpy as np\n",
    "import pandas as pd\n",
    "import matplotlib.pyplot as plt \n",
    "import re\n",
    "from lib.preprocessing import *\n",
    "\n",
    "import sklearn\n",
    "from sklearn.preprocessing import MinMaxScaler\n",
    "from sklearn.preprocessing import PolynomialFeatures\n",
    "from sklearn.preprocessing import scale\n",
    "from sklearn.feature_selection import RFECV\n",
    "from sklearn.linear_model import LinearRegression\n",
    "from sklearn.model_selection import cross_val_score\n",
    "from sklearn.preprocessing import StandardScaler\n",
    "from sklearn.linear_model import RidgeCV\n",
    "from sklearn.linear_model import LassoCV\n",
    "from sklearn.linear_model import Ridge, Lasso\n",
    "from sklearn.model_selection import LeaveOneOut\n",
    "from sklearn.model_selection import train_test_split\n",
    "\n",
    "\n",
    "from sklearn.metrics import mean_absolute_error\n",
    "\n",
    "import warnings # supress warnings\n",
    "warnings.filterwarnings('ignore')"
   ]
  },
  {
   "cell_type": "code",
   "execution_count": 4,
   "id": "262c0b0b",
   "metadata": {},
   "outputs": [],
   "source": [
    "riders = pd.read_csv(\"data/riders.csv\")\n",
    "sampsub = pd.read_csv(\"data/sample_submission.csv\")\n",
    "test = pd.read_csv(\"data/test.csv\")\n",
    "clean = load_sample(sql_db=\"data/cleaned_alex_emily_nelson.db\")"
   ]
  },
  {
   "cell_type": "code",
   "execution_count": 5,
   "id": "f2db6f6a",
   "metadata": {},
   "outputs": [],
   "source": [
    "clean.drop([\"Vehicle Type\"], axis=1, inplace=True)"
   ]
  },
  {
   "cell_type": "code",
   "execution_count": 6,
   "id": "b05fdd41",
   "metadata": {},
   "outputs": [],
   "source": [
    "def get_seconds_from_dt_series(series: pd.Series) -> pd.Series:\n",
    "        return pd.to_datetime(series).dt.hour * 3600 + pd.to_datetime(series).dt.minute * 60 + pd.to_datetime(series).dt.second\n",
    "    \n",
    "clean[\"Placement - Time\"]=get_seconds_from_dt_series(clean[\"Placement - Time\"])\n",
    "clean[\"Confirmation - Time\"]=get_seconds_from_dt_series(clean[\"Confirmation - Time\"])\n",
    "clean[\"Arrival at Pickup - Time\"]=get_seconds_from_dt_series(clean[\"Arrival at Pickup - Time\"])\n",
    "clean[\"Pickup - Time\"]=get_seconds_from_dt_series(clean[\"Pickup - Time\"])\n",
    "clean_one = pd.get_dummies(clean[\"Personal or Business\"])"
   ]
  },
  {
   "cell_type": "code",
   "execution_count": 26,
   "id": "476c57d0",
   "metadata": {},
   "outputs": [],
   "source": [
    "# display result\n",
    "clean = pd.concat((clean_one, clean), axis=1)\n",
    "clean = clean.drop([\"Personal or Business\"], axis=1)\n",
    "clean = clean.drop([\"Personal\"], axis=1)\n",
    "clean = clean.rename(columns={\"Business\": \"Personal or Business\"})"
   ]
  },
  {
   "cell_type": "code",
   "execution_count": 43,
   "id": "843e187f",
   "metadata": {},
   "outputs": [
    {
     "ename": "KeyError",
     "evalue": "'Time from Pickup to Arrival'",
     "output_type": "error",
     "traceback": [
      "\u001b[1;31m---------------------------------------------------------------------------\u001b[0m",
      "\u001b[1;31mKeyError\u001b[0m                                  Traceback (most recent call last)",
      "\u001b[1;32m~\\anaconda3\\lib\\site-packages\\pandas\\core\\indexes\\base.py\u001b[0m in \u001b[0;36mget_loc\u001b[1;34m(self, key, method, tolerance)\u001b[0m\n\u001b[0;32m   3628\u001b[0m             \u001b[1;32mtry\u001b[0m\u001b[1;33m:\u001b[0m\u001b[1;33m\u001b[0m\u001b[1;33m\u001b[0m\u001b[0m\n\u001b[1;32m-> 3629\u001b[1;33m                 \u001b[1;32mreturn\u001b[0m \u001b[0mself\u001b[0m\u001b[1;33m.\u001b[0m\u001b[0m_engine\u001b[0m\u001b[1;33m.\u001b[0m\u001b[0mget_loc\u001b[0m\u001b[1;33m(\u001b[0m\u001b[0mcasted_key\u001b[0m\u001b[1;33m)\u001b[0m\u001b[1;33m\u001b[0m\u001b[1;33m\u001b[0m\u001b[0m\n\u001b[0m\u001b[0;32m   3630\u001b[0m             \u001b[1;32mexcept\u001b[0m \u001b[0mKeyError\u001b[0m \u001b[1;32mas\u001b[0m \u001b[0merr\u001b[0m\u001b[1;33m:\u001b[0m\u001b[1;33m\u001b[0m\u001b[1;33m\u001b[0m\u001b[0m\n",
      "\u001b[1;32m~\\anaconda3\\lib\\site-packages\\pandas\\_libs\\index.pyx\u001b[0m in \u001b[0;36mpandas._libs.index.IndexEngine.get_loc\u001b[1;34m()\u001b[0m\n",
      "\u001b[1;32m~\\anaconda3\\lib\\site-packages\\pandas\\_libs\\index.pyx\u001b[0m in \u001b[0;36mpandas._libs.index.IndexEngine.get_loc\u001b[1;34m()\u001b[0m\n",
      "\u001b[1;32mpandas\\_libs\\hashtable_class_helper.pxi\u001b[0m in \u001b[0;36mpandas._libs.hashtable.PyObjectHashTable.get_item\u001b[1;34m()\u001b[0m\n",
      "\u001b[1;32mpandas\\_libs\\hashtable_class_helper.pxi\u001b[0m in \u001b[0;36mpandas._libs.hashtable.PyObjectHashTable.get_item\u001b[1;34m()\u001b[0m\n",
      "\u001b[1;31mKeyError\u001b[0m: 'Time from Pickup to Arrival'",
      "\nThe above exception was the direct cause of the following exception:\n",
      "\u001b[1;31mKeyError\u001b[0m                                  Traceback (most recent call last)",
      "\u001b[1;32m~\\AppData\\Local\\Temp\\ipykernel_21196\\46867639.py\u001b[0m in \u001b[0;36m<module>\u001b[1;34m\u001b[0m\n\u001b[0;32m      2\u001b[0m \u001b[0mmodel\u001b[0m\u001b[1;33m=\u001b[0m\u001b[0mLasso\u001b[0m\u001b[1;33m(\u001b[0m\u001b[1;33m)\u001b[0m\u001b[1;33m\u001b[0m\u001b[1;33m\u001b[0m\u001b[0m\n\u001b[0;32m      3\u001b[0m \u001b[0mtrain\u001b[0m \u001b[1;33m=\u001b[0m \u001b[0mtrain\u001b[0m\u001b[1;33m.\u001b[0m\u001b[0mdrop\u001b[0m\u001b[1;33m(\u001b[0m\u001b[1;33m[\u001b[0m\u001b[1;34m\"Time from Pickup to Arrival\"\u001b[0m\u001b[1;33m]\u001b[0m\u001b[1;33m,\u001b[0m \u001b[0maxis\u001b[0m\u001b[1;33m=\u001b[0m\u001b[1;36m1\u001b[0m\u001b[1;33m)\u001b[0m\u001b[1;33m\u001b[0m\u001b[1;33m\u001b[0m\u001b[0m\n\u001b[1;32m----> 4\u001b[1;33m \u001b[0mmodel\u001b[0m\u001b[1;33m.\u001b[0m\u001b[0mfit\u001b[0m\u001b[1;33m(\u001b[0m\u001b[0mX\u001b[0m\u001b[1;33m=\u001b[0m\u001b[0mtrain\u001b[0m\u001b[1;33m,\u001b[0m \u001b[0my\u001b[0m\u001b[1;33m=\u001b[0m\u001b[0mtrain\u001b[0m\u001b[1;33m[\u001b[0m\u001b[1;34m\"Time from Pickup to Arrival\"\u001b[0m\u001b[1;33m]\u001b[0m\u001b[1;33m,\u001b[0m \u001b[0maxis\u001b[0m\u001b[1;33m=\u001b[0m\u001b[1;36m1\u001b[0m\u001b[1;33m)\u001b[0m\u001b[1;33m\u001b[0m\u001b[1;33m\u001b[0m\u001b[0m\n\u001b[0m",
      "\u001b[1;32m~\\anaconda3\\lib\\site-packages\\pandas\\core\\frame.py\u001b[0m in \u001b[0;36m__getitem__\u001b[1;34m(self, key)\u001b[0m\n\u001b[0;32m   3503\u001b[0m             \u001b[1;32mif\u001b[0m \u001b[0mself\u001b[0m\u001b[1;33m.\u001b[0m\u001b[0mcolumns\u001b[0m\u001b[1;33m.\u001b[0m\u001b[0mnlevels\u001b[0m \u001b[1;33m>\u001b[0m \u001b[1;36m1\u001b[0m\u001b[1;33m:\u001b[0m\u001b[1;33m\u001b[0m\u001b[1;33m\u001b[0m\u001b[0m\n\u001b[0;32m   3504\u001b[0m                 \u001b[1;32mreturn\u001b[0m \u001b[0mself\u001b[0m\u001b[1;33m.\u001b[0m\u001b[0m_getitem_multilevel\u001b[0m\u001b[1;33m(\u001b[0m\u001b[0mkey\u001b[0m\u001b[1;33m)\u001b[0m\u001b[1;33m\u001b[0m\u001b[1;33m\u001b[0m\u001b[0m\n\u001b[1;32m-> 3505\u001b[1;33m             \u001b[0mindexer\u001b[0m \u001b[1;33m=\u001b[0m \u001b[0mself\u001b[0m\u001b[1;33m.\u001b[0m\u001b[0mcolumns\u001b[0m\u001b[1;33m.\u001b[0m\u001b[0mget_loc\u001b[0m\u001b[1;33m(\u001b[0m\u001b[0mkey\u001b[0m\u001b[1;33m)\u001b[0m\u001b[1;33m\u001b[0m\u001b[1;33m\u001b[0m\u001b[0m\n\u001b[0m\u001b[0;32m   3506\u001b[0m             \u001b[1;32mif\u001b[0m \u001b[0mis_integer\u001b[0m\u001b[1;33m(\u001b[0m\u001b[0mindexer\u001b[0m\u001b[1;33m)\u001b[0m\u001b[1;33m:\u001b[0m\u001b[1;33m\u001b[0m\u001b[1;33m\u001b[0m\u001b[0m\n\u001b[0;32m   3507\u001b[0m                 \u001b[0mindexer\u001b[0m \u001b[1;33m=\u001b[0m \u001b[1;33m[\u001b[0m\u001b[0mindexer\u001b[0m\u001b[1;33m]\u001b[0m\u001b[1;33m\u001b[0m\u001b[1;33m\u001b[0m\u001b[0m\n",
      "\u001b[1;32m~\\anaconda3\\lib\\site-packages\\pandas\\core\\indexes\\base.py\u001b[0m in \u001b[0;36mget_loc\u001b[1;34m(self, key, method, tolerance)\u001b[0m\n\u001b[0;32m   3629\u001b[0m                 \u001b[1;32mreturn\u001b[0m \u001b[0mself\u001b[0m\u001b[1;33m.\u001b[0m\u001b[0m_engine\u001b[0m\u001b[1;33m.\u001b[0m\u001b[0mget_loc\u001b[0m\u001b[1;33m(\u001b[0m\u001b[0mcasted_key\u001b[0m\u001b[1;33m)\u001b[0m\u001b[1;33m\u001b[0m\u001b[1;33m\u001b[0m\u001b[0m\n\u001b[0;32m   3630\u001b[0m             \u001b[1;32mexcept\u001b[0m \u001b[0mKeyError\u001b[0m \u001b[1;32mas\u001b[0m \u001b[0merr\u001b[0m\u001b[1;33m:\u001b[0m\u001b[1;33m\u001b[0m\u001b[1;33m\u001b[0m\u001b[0m\n\u001b[1;32m-> 3631\u001b[1;33m                 \u001b[1;32mraise\u001b[0m \u001b[0mKeyError\u001b[0m\u001b[1;33m(\u001b[0m\u001b[0mkey\u001b[0m\u001b[1;33m)\u001b[0m \u001b[1;32mfrom\u001b[0m \u001b[0merr\u001b[0m\u001b[1;33m\u001b[0m\u001b[1;33m\u001b[0m\u001b[0m\n\u001b[0m\u001b[0;32m   3632\u001b[0m             \u001b[1;32mexcept\u001b[0m \u001b[0mTypeError\u001b[0m\u001b[1;33m:\u001b[0m\u001b[1;33m\u001b[0m\u001b[1;33m\u001b[0m\u001b[0m\n\u001b[0;32m   3633\u001b[0m                 \u001b[1;31m# If we have a listlike key, _check_indexing_error will raise\u001b[0m\u001b[1;33m\u001b[0m\u001b[1;33m\u001b[0m\u001b[0m\n",
      "\u001b[1;31mKeyError\u001b[0m: 'Time from Pickup to Arrival'"
     ]
    }
   ],
   "source": [
    "train, test = train_test_split(clean, test_size=0.2, random_state=13)\n",
    "model=Lasso()\n",
    "train = train.drop([\"Time from Pickup to Arrival\"], axis=1)\n",
    "model.fit(X=train, y=train[\"Time from Pickup to Arrival\"],)"
   ]
  },
  {
   "cell_type": "code",
   "execution_count": 27,
   "id": "67767e11",
   "metadata": {},
   "outputs": [],
   "source": [
    "# Scaling data\n",
    "scaler = StandardScaler()\n",
    "X = scaler.fit_transform(clean[clean.columns[clean.columns!='Time from Pickup to Arrival']]) # all columns except time from pickup to arrival\n",
    "X = pd.DataFrame(X, columns = clean.columns[clean.columns!='Time from Pickup to Arrival']) # save to dataframe"
   ]
  },
  {
   "cell_type": "code",
   "execution_count": 28,
   "id": "96d1f560",
   "metadata": {},
   "outputs": [
    {
     "name": "stdout",
     "output_type": "stream",
     "text": [
      "Lasso MAE: 553.0366755842736\n"
     ]
    }
   ],
   "source": [
    "lasso = LassoCV(n_alphas=100, cv=2)\n",
    "lasso.fit(X=X, y=clean[\"Time from Pickup to Arrival\"])\n",
    "lasso.alpha_\n",
    "lasso_best = Lasso(alpha=lasso.alpha_)\n",
    "cv_lasso = cross_val_score(estimator=lasso_best, X=X, y=clean[\"Time from Pickup to Arrival\"], scoring=\"neg_mean_absolute_error\", cv=2)\n",
    "print('Lasso MAE:', -cv_lasso.mean())"
   ]
  },
  {
   "cell_type": "code",
   "execution_count": 29,
   "id": "23ee812c",
   "metadata": {},
   "outputs": [
    {
     "name": "stdout",
     "output_type": "stream",
     "text": [
      "Lasso MAE: 546.3732047710251\n"
     ]
    }
   ],
   "source": [
    "lasso = LassoCV(n_alphas=100, cv=3)\n",
    "lasso.fit(X=X, y=clean[\"Time from Pickup to Arrival\"])\n",
    "lasso_best = Lasso(alpha=lasso.alpha_)\n",
    "cv_lasso = cross_val_score(estimator=lasso_best, X=X, y=clean[\"Time from Pickup to Arrival\"], scoring=\"neg_mean_absolute_error\", cv=3)\n",
    "print('Lasso MAE:', -cv_lasso.mean())"
   ]
  },
  {
   "cell_type": "code",
   "execution_count": 32,
   "id": "300f8441",
   "metadata": {},
   "outputs": [
    {
     "name": "stdout",
     "output_type": "stream",
     "text": [
      "Lasso MAE: 546.669358319893\n"
     ]
    }
   ],
   "source": [
    "lasso = LassoCV(n_alphas=100, cv=4)\n",
    "lasso.fit(X=X, y=clean[\"Time from Pickup to Arrival\"])\n",
    "lasso_best = Lasso(alpha=lasso.alpha_)\n",
    "cv_lasso = cross_val_score(estimator=lasso_best, X=X, y=clean[\"Time from Pickup to Arrival\"], scoring=\"neg_mean_absolute_error\", cv=4)\n",
    "print('Lasso MAE:', -cv_lasso.mean())"
   ]
  },
  {
   "cell_type": "code",
   "execution_count": 30,
   "id": "26abce08",
   "metadata": {},
   "outputs": [
    {
     "name": "stdout",
     "output_type": "stream",
     "text": [
      "Lasso MAE: 543.1478376285393\n"
     ]
    }
   ],
   "source": [
    "lasso = LassoCV(n_alphas=100, cv=5)\n",
    "lasso.fit(X=X, y=clean[\"Time from Pickup to Arrival\"])\n",
    "lasso_best = Lasso(alpha=lasso.alpha_)\n",
    "cv_lasso = cross_val_score(estimator=lasso_best, X=X, y=clean[\"Time from Pickup to Arrival\"], scoring=\"neg_mean_absolute_error\", cv=5)\n",
    "print('Lasso MAE:', -cv_lasso.mean())"
   ]
  },
  {
   "cell_type": "code",
   "execution_count": 31,
   "id": "f1627de1",
   "metadata": {},
   "outputs": [
    {
     "name": "stdout",
     "output_type": "stream",
     "text": [
      "Lasso MAE: 543.0976625645924\n"
     ]
    }
   ],
   "source": [
    "lasso = LassoCV(n_alphas=100, cv=10)\n",
    "lasso.fit(X=X, y=clean[\"Time from Pickup to Arrival\"])\n",
    "lasso_best = Lasso(alpha=lasso.alpha_)\n",
    "cv_lasso = cross_val_score(estimator=lasso_best, X=X, y=clean[\"Time from Pickup to Arrival\"], scoring=\"neg_mean_absolute_error\", cv=10)\n",
    "print('Lasso MAE:', -cv_lasso.mean())"
   ]
  },
  {
   "cell_type": "code",
   "execution_count": 12,
   "id": "dad81e76",
   "metadata": {},
   "outputs": [
    {
     "data": {
      "text/plain": [
       "Pickup - Time                    -1403.383288\n",
       "Confirmation - Time              -1019.069379\n",
       "Placement - Time                  -420.967003\n",
       "orders                             -94.056081\n",
       "Placement - Weekday (Mo = 1)       -57.367210\n",
       "age                                -56.591129\n",
       "Pickup Long                        -51.409263\n",
       "average_rating                     -31.666084\n",
       "Destination Lat                    -30.383823\n",
       "Destination Long                   -21.500041\n",
       "Placement - Day of Month           -13.157300\n",
       "Fulfillment - Day of Month         -13.157300\n",
       "rider_id                            -9.886796\n",
       "Pickup Lat                          -5.289838\n",
       "Temperature                         -3.888470\n",
       "user_id                              1.435144\n",
       "Personal or Business                 2.405252\n",
       "Platform Type                        5.469233\n",
       "order_no                            10.751105\n",
       "Fulfillment - Weekday (Su = 0)      64.694787\n",
       "number_rating                       74.222997\n",
       "Distance (KM)                      587.985374\n",
       "Arrival at Pickup - Time          2866.718519\n",
       "dtype: float64"
      ]
     },
     "execution_count": 12,
     "metadata": {},
     "output_type": "execute_result"
    }
   ],
   "source": [
    "#fitting model\n",
    "olsmod = LinearRegression()\n",
    "olsmod.fit(X=X, y=clean[\"Time from Pickup to Arrival\"])\n",
    "pd.Series(olsmod.coef_, index=X.columns).sort_values()"
   ]
  },
  {
   "cell_type": "code",
   "execution_count": 13,
   "id": "07a47de5",
   "metadata": {},
   "outputs": [
    {
     "name": "stdout",
     "output_type": "stream",
     "text": [
      "Selected 15 features:\n"
     ]
    },
    {
     "data": {
      "text/plain": [
       "Index(['Placement - Day of Month', 'Placement - Weekday (Mo = 1)',\n",
       "       'Placement - Time', 'Confirmation - Time', 'Arrival at Pickup - Time',\n",
       "       'Pickup - Time', 'Distance (KM)', 'Pickup Long', 'Destination Lat',\n",
       "       'Destination Long', 'Fulfillment - Weekday (Su = 0)', 'orders', 'age',\n",
       "       'average_rating', 'number_rating'],\n",
       "      dtype='object')"
      ]
     },
     "execution_count": 13,
     "metadata": {},
     "output_type": "execute_result"
    }
   ],
   "source": [
    "#recursive feature elimination\n",
    "rfe = RFECV(estimator=olsmod, cv=100, scoring=\"neg_mean_squared_error\")\n",
    "rfe.fit(X=X, y=clean[\"Time from Pickup to Arrival\"])\n",
    "print('Selected', rfe.n_features_, 'features:')\n",
    "X.columns[rfe.support_]"
   ]
  },
  {
   "cell_type": "code",
   "execution_count": 14,
   "id": "ebee4888",
   "metadata": {},
   "outputs": [
    {
     "data": {
      "text/plain": [
       "RidgeCV(alphas=array([ 0.1,  1. , 10. ]), cv=100,\n",
       "        scoring='neg_mean_squared_error')"
      ]
     },
     "execution_count": 14,
     "metadata": {},
     "output_type": "execute_result"
    }
   ],
   "source": [
    "#Ridge Regression\n",
    "ridge=RidgeCV(alphas=[0.1, 1.0, 10.0], scoring=\"neg_mean_squared_error\", cv=100)\n",
    "ridge.fit(X=X, y=clean[\"Time from Pickup to Arrival\"])"
   ]
  },
  {
   "cell_type": "code",
   "execution_count": 15,
   "id": "312e41bf",
   "metadata": {},
   "outputs": [
    {
     "data": {
      "text/plain": [
       "0.1"
      ]
     },
     "execution_count": 15,
     "metadata": {},
     "output_type": "execute_result"
    }
   ],
   "source": [
    "ridge.alpha_"
   ]
  },
  {
   "cell_type": "code",
   "execution_count": 16,
   "id": "25748966",
   "metadata": {},
   "outputs": [
    {
     "data": {
      "text/html": [
       "<div>\n",
       "<style scoped>\n",
       "    .dataframe tbody tr th:only-of-type {\n",
       "        vertical-align: middle;\n",
       "    }\n",
       "\n",
       "    .dataframe tbody tr th {\n",
       "        vertical-align: top;\n",
       "    }\n",
       "\n",
       "    .dataframe thead th {\n",
       "        text-align: right;\n",
       "    }\n",
       "</style>\n",
       "<table border=\"1\" class=\"dataframe\">\n",
       "  <thead>\n",
       "    <tr style=\"text-align: right;\">\n",
       "      <th></th>\n",
       "      <th>ols</th>\n",
       "      <th>ridge</th>\n",
       "    </tr>\n",
       "  </thead>\n",
       "  <tbody>\n",
       "    <tr>\n",
       "      <th>Personal or Business</th>\n",
       "      <td>2.405252</td>\n",
       "      <td>1.989462</td>\n",
       "    </tr>\n",
       "    <tr>\n",
       "      <th>order_no</th>\n",
       "      <td>10.751105</td>\n",
       "      <td>10.659303</td>\n",
       "    </tr>\n",
       "    <tr>\n",
       "      <th>user_id</th>\n",
       "      <td>1.435144</td>\n",
       "      <td>1.463981</td>\n",
       "    </tr>\n",
       "    <tr>\n",
       "      <th>Platform Type</th>\n",
       "      <td>5.469233</td>\n",
       "      <td>5.459326</td>\n",
       "    </tr>\n",
       "    <tr>\n",
       "      <th>Placement - Day of Month</th>\n",
       "      <td>-13.157300</td>\n",
       "      <td>-13.150800</td>\n",
       "    </tr>\n",
       "    <tr>\n",
       "      <th>Placement - Weekday (Mo = 1)</th>\n",
       "      <td>-57.367210</td>\n",
       "      <td>-57.200630</td>\n",
       "    </tr>\n",
       "    <tr>\n",
       "      <th>Placement - Time</th>\n",
       "      <td>-420.967003</td>\n",
       "      <td>-423.990054</td>\n",
       "    </tr>\n",
       "    <tr>\n",
       "      <th>Confirmation - Time</th>\n",
       "      <td>-1019.069379</td>\n",
       "      <td>-985.330813</td>\n",
       "    </tr>\n",
       "    <tr>\n",
       "      <th>Arrival at Pickup - Time</th>\n",
       "      <td>2866.718519</td>\n",
       "      <td>2808.834902</td>\n",
       "    </tr>\n",
       "    <tr>\n",
       "      <th>Pickup - Time</th>\n",
       "      <td>-1403.383288</td>\n",
       "      <td>-1376.258371</td>\n",
       "    </tr>\n",
       "    <tr>\n",
       "      <th>Distance (KM)</th>\n",
       "      <td>587.985374</td>\n",
       "      <td>588.018132</td>\n",
       "    </tr>\n",
       "    <tr>\n",
       "      <th>Temperature</th>\n",
       "      <td>-3.888470</td>\n",
       "      <td>-3.906715</td>\n",
       "    </tr>\n",
       "    <tr>\n",
       "      <th>Pickup Lat</th>\n",
       "      <td>-5.289838</td>\n",
       "      <td>-5.026352</td>\n",
       "    </tr>\n",
       "    <tr>\n",
       "      <th>Pickup Long</th>\n",
       "      <td>-51.409263</td>\n",
       "      <td>-51.595298</td>\n",
       "    </tr>\n",
       "    <tr>\n",
       "      <th>Destination Lat</th>\n",
       "      <td>-30.383823</td>\n",
       "      <td>-30.459538</td>\n",
       "    </tr>\n",
       "    <tr>\n",
       "      <th>Destination Long</th>\n",
       "      <td>-21.500041</td>\n",
       "      <td>-21.323861</td>\n",
       "    </tr>\n",
       "    <tr>\n",
       "      <th>rider_id</th>\n",
       "      <td>-9.886796</td>\n",
       "      <td>-9.708703</td>\n",
       "    </tr>\n",
       "    <tr>\n",
       "      <th>Fulfillment - Weekday (Su = 0)</th>\n",
       "      <td>64.694787</td>\n",
       "      <td>64.582297</td>\n",
       "    </tr>\n",
       "    <tr>\n",
       "      <th>Fulfillment - Day of Month</th>\n",
       "      <td>-13.157300</td>\n",
       "      <td>-13.150800</td>\n",
       "    </tr>\n",
       "    <tr>\n",
       "      <th>orders</th>\n",
       "      <td>-94.056081</td>\n",
       "      <td>-95.148985</td>\n",
       "    </tr>\n",
       "    <tr>\n",
       "      <th>age</th>\n",
       "      <td>-56.591129</td>\n",
       "      <td>-56.645517</td>\n",
       "    </tr>\n",
       "    <tr>\n",
       "      <th>average_rating</th>\n",
       "      <td>-31.666084</td>\n",
       "      <td>-31.623971</td>\n",
       "    </tr>\n",
       "    <tr>\n",
       "      <th>number_rating</th>\n",
       "      <td>74.222997</td>\n",
       "      <td>74.880089</td>\n",
       "    </tr>\n",
       "  </tbody>\n",
       "</table>\n",
       "</div>"
      ],
      "text/plain": [
       "                                        ols        ridge\n",
       "Personal or Business               2.405252     1.989462\n",
       "order_no                          10.751105    10.659303\n",
       "user_id                            1.435144     1.463981\n",
       "Platform Type                      5.469233     5.459326\n",
       "Placement - Day of Month         -13.157300   -13.150800\n",
       "Placement - Weekday (Mo = 1)     -57.367210   -57.200630\n",
       "Placement - Time                -420.967003  -423.990054\n",
       "Confirmation - Time            -1019.069379  -985.330813\n",
       "Arrival at Pickup - Time        2866.718519  2808.834902\n",
       "Pickup - Time                  -1403.383288 -1376.258371\n",
       "Distance (KM)                    587.985374   588.018132\n",
       "Temperature                       -3.888470    -3.906715\n",
       "Pickup Lat                        -5.289838    -5.026352\n",
       "Pickup Long                      -51.409263   -51.595298\n",
       "Destination Lat                  -30.383823   -30.459538\n",
       "Destination Long                 -21.500041   -21.323861\n",
       "rider_id                          -9.886796    -9.708703\n",
       "Fulfillment - Weekday (Su = 0)    64.694787    64.582297\n",
       "Fulfillment - Day of Month       -13.157300   -13.150800\n",
       "orders                           -94.056081   -95.148985\n",
       "age                              -56.591129   -56.645517\n",
       "average_rating                   -31.666084   -31.623971\n",
       "number_rating                     74.222997    74.880089"
      ]
     },
     "execution_count": 16,
     "metadata": {},
     "output_type": "execute_result"
    }
   ],
   "source": [
    "pd.DataFrame({\n",
    "    'ols':olsmod.coef_, 'ridge':ridge.coef_\n",
    "}, index=X.columns)"
   ]
  },
  {
   "cell_type": "code",
   "execution_count": 17,
   "id": "597597dc",
   "metadata": {},
   "outputs": [],
   "source": [
    "#lasso = LassoCV(n_alphas=100, cv=100)\n",
    "#lasso.fit(X=X, y=clean[\"Time from Pickup to Arrival\"])"
   ]
  },
  {
   "cell_type": "code",
   "execution_count": 28,
   "id": "95a04d73",
   "metadata": {},
   "outputs": [],
   "source": [
    "#lasso.alpha_"
   ]
  },
  {
   "cell_type": "code",
   "execution_count": 29,
   "id": "07005c86",
   "metadata": {},
   "outputs": [],
   "source": [
    "#pd.Series(lasso.coef_, index=X.columns)"
   ]
  },
  {
   "cell_type": "code",
   "execution_count": 30,
   "id": "44c4ce77",
   "metadata": {},
   "outputs": [],
   "source": [
    "#ridge_best = Ridge(alpha=ridge.alpha_)\n",
    "#lasso_best = Lasso(alpha=lasso.alpha_)\n",
    "#cv_ols = cross_val_score(estimator=olsmod, X=X, y=clean[\"Time from Pickup to Arrival\"], scoring=\"neg_mean_absolute_error\", cv=100)\n",
    "#cv_rfe = cross_val_score(estimator=olsmod, X=X[X.columns[rfe.support_]], y=clean[\"Time from Pickup to Arrival\"], scoring=\"neg_mean_absolute_error\", cv=100)\n",
    "#cv_ridge = cross_val_score(estimator=ridge_best, X=X, y=clean[\"Time from Pickup to Arrival\"], scoring=\"neg_mean_absolute_error\", cv=100)\n",
    "#cv_lasso = cross_val_score(estimator=lasso_best, X=X, y=clean[\"Time from Pickup to Arrival\"], scoring=\"neg_mean_absolute_error\", cv=100)\n",
    "\n",
    "#print('OLS MAE:', -cv_ols.mean())\n",
    "#print('RFE MAE:', -cv_rfe.mean())\n",
    "#print('Ridge MAE:', -cv_ridge.mean())\n",
    "#print('Lasso MAE:', -cv_lasso.mean())"
   ]
  },
  {
   "cell_type": "markdown",
   "id": "1dd701c4",
   "metadata": {},
   "source": [
    "# Data Demolition"
   ]
  },
  {
   "cell_type": "markdown",
   "id": "d6a7a99e",
   "metadata": {},
   "source": [
    "How would our regressions be affected if we demolished some data?\n",
    "### Oh I'm glad you asked!"
   ]
  },
  {
   "cell_type": "code",
   "execution_count": 17,
   "id": "cbed3bba",
   "metadata": {},
   "outputs": [],
   "source": [
    "demo = clean"
   ]
  },
  {
   "cell_type": "code",
   "execution_count": 25,
   "id": "53c3b520",
   "metadata": {},
   "outputs": [
    {
     "data": {
      "text/plain": [
       "0       14.6\n",
       "1       14.3\n",
       "2       14.4\n",
       "3       14.4\n",
       "4       13.8\n",
       "        ... \n",
       "2115    12.7\n",
       "2116    14.2\n",
       "2117    14.3\n",
       "2118    13.8\n",
       "2119    14.2\n",
       "Name: average_rating, Length: 2120, dtype: float64"
      ]
     },
     "execution_count": 25,
     "metadata": {},
     "output_type": "execute_result"
    }
   ],
   "source": [
    "demo.dtypes\n",
    "demo.average_rating"
   ]
  },
  {
   "cell_type": "code",
   "execution_count": 20,
   "id": "35d1ac8d",
   "metadata": {},
   "outputs": [],
   "source": [
    "demo=demo.drop(columns=[\"Temperature\", \"rider_id\", \"age\"]) # dropped randomly selected columns"
   ]
  },
  {
   "cell_type": "code",
   "execution_count": 23,
   "id": "18ed6e29",
   "metadata": {},
   "outputs": [
    {
     "name": "stdout",
     "output_type": "stream",
     "text": [
      "Lasso MSE: 545.0075482121848\n"
     ]
    }
   ],
   "source": [
    "# Scaling data\n",
    "scaler = StandardScaler()\n",
    "X = scaler.fit_transform(demo[demo.columns[demo.columns!='Time from Pickup to Arrival']]) # all columns except time from pickup to arrival\n",
    "X = pd.DataFrame(X, columns = demo.columns[demo.columns!='Time from Pickup to Arrival']) # save to dataframe\n",
    "lasso = LassoCV(n_alphas=100, cv=100)\n",
    "lasso.fit(X=X, y=demo[\"Time from Pickup to Arrival\"])\n",
    "lasso_best = Lasso(alpha=lasso.alpha_)\n",
    "\n",
    "cv_lasso = cross_val_score(estimator=lasso_best, X=X, y=demo[\"Time from Pickup to Arrival\"], scoring=\"neg_mean_absolute_error\", cv=100)\n",
    "print('Lasso MAE:', -cv_lasso.mean())"
   ]
  },
  {
   "cell_type": "markdown",
   "id": "01074288",
   "metadata": {},
   "source": [
    "Ah! Our model is only damaged by an additional error of 0.12011698723! These columns must not have been very influential-- let's drop some more influential ones."
   ]
  },
  {
   "cell_type": "code",
   "execution_count": 26,
   "id": "524338c2",
   "metadata": {},
   "outputs": [],
   "source": [
    "demo=clean\n",
    "demo=demo.drop(columns=[\"Distance (KM)\", \"orders\", \"average_rating\"]) # dropped randomly selected columns"
   ]
  },
  {
   "cell_type": "code",
   "execution_count": 27,
   "id": "9fb9859e",
   "metadata": {},
   "outputs": [
    {
     "name": "stdout",
     "output_type": "stream",
     "text": [
      "Lasso MSE: 742.0418242996093\n"
     ]
    }
   ],
   "source": [
    "# Scaling data\n",
    "scaler = StandardScaler()\n",
    "X = scaler.fit_transform(demo[demo.columns[demo.columns!='Time from Pickup to Arrival']]) # all columns except time from pickup to arrival\n",
    "X = pd.DataFrame(X, columns = demo.columns[demo.columns!='Time from Pickup to Arrival']) # save to dataframe\n",
    "lasso = LassoCV(n_alphas=100, cv=100)\n",
    "lasso.fit(X=X, y=demo[\"Time from Pickup to Arrival\"]\n",
    "lasso_best = Lasso(alpha=lasso.alpha_)\n",
    "\n",
    "cv_lasso = cross_val_score(estimator=lasso_best, X=X, y=demo[\"Time from Pickup to Arrival\"], scoring=\"neg_mean_absolute_error\", cv=100)\n",
    "print('Lasso MSE:', -cv_lasso.mean())"
   ]
  },
  {
   "cell_type": "markdown",
   "id": "7b6b1261",
   "metadata": {},
   "source": [
    "There we go-- an increase in error of 197.154393075. These must be greatly impactful.\n",
    "\n",
    "What if we passed these through sin functions? "
   ]
  },
  {
   "cell_type": "code",
   "execution_count": 40,
   "id": "2f29daa9",
   "metadata": {},
   "outputs": [
    {
     "name": "stdout",
     "output_type": "stream",
     "text": [
      "Lasso MAE: 0.6397024786433453\n"
     ]
    }
   ],
   "source": [
    "demo = clean\n",
    "sin: np.sin\n",
    "demo=demo.apply(np.sin, columns=[\"Distance (KM)\", \"orders\", \"average_rating\"])\n",
    "# Scaling data\n",
    "scaler = StandardScaler()\n",
    "X = scaler.fit_transform(demo[demo.columns[demo.columns!='Time from Pickup to Arrival']]) # all columns except time from pickup to arrival\n",
    "X = pd.DataFrame(X, columns = demo.columns[demo.columns!='Time from Pickup to Arrival']) # save to dataframe\n",
    "lasso = LassoCV(n_alphas=100, cv=100)\n",
    "lasso.fit(X=X, y=demo[\"Time from Pickup to Arrival\"])\n",
    "lasso_best = Lasso(alpha=lasso.alpha_)\n",
    "\n",
    "cv_lasso = cross_val_score(estimator=lasso_best, X=X, y=demo[\"Time from Pickup to Arrival\"], scoring=\"neg_mean_absolute_error\", cv=100)\n",
    "print('Lasso MAE:', -cv_lasso.mean())"
   ]
  },
  {
   "cell_type": "markdown",
   "id": "bc066a84",
   "metadata": {},
   "source": [
    "Woah! Dropped dramatically. "
   ]
  }
 ],
 "metadata": {
  "kernelspec": {
   "display_name": "Python 3 (ipykernel)",
   "language": "python",
   "name": "python3"
  },
  "language_info": {
   "codemirror_mode": {
    "name": "ipython",
    "version": 3
   },
   "file_extension": ".py",
   "mimetype": "text/x-python",
   "name": "python",
   "nbconvert_exporter": "python",
   "pygments_lexer": "ipython3",
   "version": "3.9.13"
  }
 },
 "nbformat": 4,
 "nbformat_minor": 5
}
