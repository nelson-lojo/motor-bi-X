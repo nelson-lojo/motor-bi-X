{
 "cells": [
  {
   "cell_type": "code",
   "execution_count": 2,
   "id": "90ea4e24",
   "metadata": {},
   "outputs": [],
   "source": [
    "# import all libraries\n",
    "import numpy as np\n",
    "import pandas as pd\n",
    "import matplotlib.pyplot as plt \n",
    "import seaborn as sns\n",
    "import re\n",
    "import missingno as msno\n",
    "\n",
    "from lib.preprocessing import *\n",
    "\n",
    "import sklearn\n",
    "from sklearn.model_selection import train_test_split\n",
    "from sklearn.preprocessing import MinMaxScaler\n",
    "from sklearn.preprocessing import PolynomialFeatures\n",
    "from sklearn.preprocessing import scale\n",
    "from sklearn.feature_selection import RFE\n",
    "from sklearn.feature_selection import RFECV\n",
    "from sklearn.linear_model import LinearRegression\n",
    "from sklearn.model_selection import cross_val_score\n",
    "from sklearn.model_selection import KFold\n",
    "from sklearn.model_selection import GridSearchCV\n",
    "from sklearn.pipeline import make_pipeline\n",
    "from sklearn.preprocessing import StandardScaler\n",
    "from sklearn.linear_model import RidgeCV\n",
    "from sklearn.linear_model import LassoCV\n",
    "from sklearn.linear_model import Ridge, Lasso\n",
    "from sklearn.metrics import mean_absolute_error\n",
    "\n",
    "import warnings # supress warnings\n",
    "warnings.filterwarnings('ignore')"
   ]
  },
  {
   "cell_type": "code",
   "execution_count": 3,
   "id": "262c0b0b",
   "metadata": {},
   "outputs": [],
   "source": [
    "riders = pd.read_csv(\"data/riders.csv\")\n",
    "sampsub = pd.read_csv(\"data/sample_submission.csv\")\n",
    "test = pd.read_csv(\"data/test.csv\")\n",
    "clean = load_sample(sql_db=\"data/cleaned_alex_emily_nelson.db\")"
   ]
  },
  {
   "cell_type": "code",
   "execution_count": 4,
   "id": "f2db6f6a",
   "metadata": {},
   "outputs": [],
   "source": [
    "clean.drop([\"Vehicle Type\"], axis=1, inplace=True)"
   ]
  },
  {
   "cell_type": "code",
   "execution_count": 5,
   "id": "b05fdd41",
   "metadata": {},
   "outputs": [],
   "source": [
    "def get_seconds_from_dt_series(series: pd.Series) -> pd.Series:\n",
    "        return pd.to_datetime(series).dt.hour * 3600 + pd.to_datetime(series).dt.minute * 60 + pd.to_datetime(series).dt.second\n",
    "    \n",
    "clean[\"Placement - Time\"]=get_seconds_from_dt_series(clean[\"Placement - Time\"])\n",
    "clean[\"Confirmation - Time\"]=get_seconds_from_dt_series(clean[\"Confirmation - Time\"])\n",
    "clean[\"Arrival at Pickup - Time\"]=get_seconds_from_dt_series(clean[\"Arrival at Pickup - Time\"])\n",
    "clean[\"Pickup - Time\"]=get_seconds_from_dt_series(clean[\"Pickup - Time\"])\n",
    "clean_one = pd.get_dummies(clean[\"Personal or Business\"])"
   ]
  },
  {
   "cell_type": "code",
   "execution_count": 6,
   "id": "476c57d0",
   "metadata": {},
   "outputs": [],
   "source": [
    "# display result\n",
    "clean = pd.concat((clean_one, clean), axis=1)\n",
    "clean = clean.drop([\"Personal or Business\"], axis=1)\n",
    "clean = clean.drop([\"Personal\"], axis=1)\n",
    "clean = clean.rename(columns={\"Business\": \"Personal or Business\"})"
   ]
  },
  {
   "cell_type": "code",
   "execution_count": 7,
   "id": "67767e11",
   "metadata": {},
   "outputs": [],
   "source": [
    "# Scaling data\n",
    "scaler = StandardScaler()\n",
    "X = scaler.fit_transform(clean[clean.columns[clean.columns!='Time from Pickup to Arrival']]) # all columns except time from pickup to arrival\n",
    "X = pd.DataFrame(X, columns = clean.columns[clean.columns!='Time from Pickup to Arrival']) # save to dataframe"
   ]
  },
  {
   "cell_type": "code",
   "execution_count": 8,
   "id": "dad81e76",
   "metadata": {},
   "outputs": [
    {
     "data": {
      "text/plain": [
       "Pickup - Time                    -1369.590988\n",
       "Confirmation - Time              -1045.956770\n",
       "Placement - Time                  -581.824411\n",
       "orders                             -89.129723\n",
       "Placement - Weekday (Mo = 1)       -60.964026\n",
       "Pickup Long                        -33.153047\n",
       "Personal or Business               -28.006401\n",
       "average_rating                     -24.429199\n",
       "age                                -14.907015\n",
       "Destination Long                   -12.816730\n",
       "order_no                            -8.099513\n",
       "Fulfillment - Day of Month           3.643558\n",
       "Placement - Day of Month             3.643558\n",
       "Pickup Lat                          11.408046\n",
       "Temperature                         15.731119\n",
       "user_id                             16.932358\n",
       "Destination Lat                     21.581774\n",
       "rider_id                            21.835696\n",
       "Platform Type                       64.044886\n",
       "number_rating                       68.295757\n",
       "Fulfillment - Weekday (Su = 0)      78.980112\n",
       "Distance (KM)                      595.137811\n",
       "Arrival at Pickup - Time          2998.760756\n",
       "dtype: float64"
      ]
     },
     "execution_count": 8,
     "metadata": {},
     "output_type": "execute_result"
    }
   ],
   "source": [
    "# fitting model\n",
    "olsmod = LinearRegression()\n",
    "olsmod.fit(X=X, y=clean[\"Time from Pickup to Arrival\"])\n",
    "pd.Series(olsmod.coef_, index=X.columns).sort_values()"
   ]
  },
  {
   "cell_type": "code",
   "execution_count": 9,
   "id": "07a47de5",
   "metadata": {},
   "outputs": [
    {
     "name": "stdout",
     "output_type": "stream",
     "text": [
      "Selected 11 features:\n"
     ]
    },
    {
     "data": {
      "text/plain": [
       "Index(['Platform Type', 'Placement - Weekday (Mo = 1)', 'Placement - Time',\n",
       "       'Confirmation - Time', 'Arrival at Pickup - Time', 'Pickup - Time',\n",
       "       'Distance (KM)', 'Pickup Long', 'Fulfillment - Weekday (Su = 0)',\n",
       "       'orders', 'number_rating'],\n",
       "      dtype='object')"
      ]
     },
     "execution_count": 9,
     "metadata": {},
     "output_type": "execute_result"
    }
   ],
   "source": [
    "# recursive feature elimination\n",
    "rfe = RFECV(estimator=olsmod, cv=100, scoring=\"neg_mean_squared_error\")\n",
    "rfe.fit(X=X, y=clean[\"Time from Pickup to Arrival\"])\n",
    "print('Selected', rfe.n_features_, 'features:')\n",
    "X.columns[rfe.support_]"
   ]
  },
  {
   "cell_type": "code",
   "execution_count": 10,
   "id": "ebee4888",
   "metadata": {},
   "outputs": [
    {
     "data": {
      "text/plain": [
       "RidgeCV(alphas=array([ 0.1,  1. , 10. ]), cv=100,\n",
       "        scoring='neg_mean_squared_error')"
      ]
     },
     "execution_count": 10,
     "metadata": {},
     "output_type": "execute_result"
    }
   ],
   "source": [
    "# Ridge Regression\n",
    "ridge=RidgeCV(alphas=[0.1, 1.0, 10.0], scoring=\"neg_mean_squared_error\", cv=100)\n",
    "ridge.fit(X=X, y=clean[\"Time from Pickup to Arrival\"])"
   ]
  },
  {
   "cell_type": "code",
   "execution_count": 11,
   "id": "312e41bf",
   "metadata": {},
   "outputs": [
    {
     "data": {
      "text/plain": [
       "0.1"
      ]
     },
     "execution_count": 11,
     "metadata": {},
     "output_type": "execute_result"
    }
   ],
   "source": [
    "ridge.alpha_"
   ]
  },
  {
   "cell_type": "code",
   "execution_count": 12,
   "id": "25748966",
   "metadata": {},
   "outputs": [
    {
     "data": {
      "text/html": [
       "<div>\n",
       "<style scoped>\n",
       "    .dataframe tbody tr th:only-of-type {\n",
       "        vertical-align: middle;\n",
       "    }\n",
       "\n",
       "    .dataframe tbody tr th {\n",
       "        vertical-align: top;\n",
       "    }\n",
       "\n",
       "    .dataframe thead th {\n",
       "        text-align: right;\n",
       "    }\n",
       "</style>\n",
       "<table border=\"1\" class=\"dataframe\">\n",
       "  <thead>\n",
       "    <tr style=\"text-align: right;\">\n",
       "      <th></th>\n",
       "      <th>ols</th>\n",
       "      <th>ridge</th>\n",
       "    </tr>\n",
       "  </thead>\n",
       "  <tbody>\n",
       "    <tr>\n",
       "      <th>Personal or Business</th>\n",
       "      <td>-28.006401</td>\n",
       "      <td>-28.496408</td>\n",
       "    </tr>\n",
       "    <tr>\n",
       "      <th>order_no</th>\n",
       "      <td>-8.099513</td>\n",
       "      <td>-8.023540</td>\n",
       "    </tr>\n",
       "    <tr>\n",
       "      <th>user_id</th>\n",
       "      <td>16.932358</td>\n",
       "      <td>17.055464</td>\n",
       "    </tr>\n",
       "    <tr>\n",
       "      <th>Platform Type</th>\n",
       "      <td>64.044886</td>\n",
       "      <td>64.179394</td>\n",
       "    </tr>\n",
       "    <tr>\n",
       "      <th>Placement - Day of Month</th>\n",
       "      <td>3.643558</td>\n",
       "      <td>3.560058</td>\n",
       "    </tr>\n",
       "    <tr>\n",
       "      <th>Placement - Weekday (Mo = 1)</th>\n",
       "      <td>-60.964026</td>\n",
       "      <td>-60.727009</td>\n",
       "    </tr>\n",
       "    <tr>\n",
       "      <th>Placement - Time</th>\n",
       "      <td>-581.824411</td>\n",
       "      <td>-584.946349</td>\n",
       "    </tr>\n",
       "    <tr>\n",
       "      <th>Confirmation - Time</th>\n",
       "      <td>-1045.956770</td>\n",
       "      <td>-1006.334026</td>\n",
       "    </tr>\n",
       "    <tr>\n",
       "      <th>Arrival at Pickup - Time</th>\n",
       "      <td>2998.760756</td>\n",
       "      <td>2932.011942</td>\n",
       "    </tr>\n",
       "    <tr>\n",
       "      <th>Pickup - Time</th>\n",
       "      <td>-1369.590988</td>\n",
       "      <td>-1339.283253</td>\n",
       "    </tr>\n",
       "    <tr>\n",
       "      <th>Distance (KM)</th>\n",
       "      <td>595.137811</td>\n",
       "      <td>595.137315</td>\n",
       "    </tr>\n",
       "    <tr>\n",
       "      <th>Temperature</th>\n",
       "      <td>15.731119</td>\n",
       "      <td>15.653679</td>\n",
       "    </tr>\n",
       "    <tr>\n",
       "      <th>Pickup Lat</th>\n",
       "      <td>11.408046</td>\n",
       "      <td>11.663610</td>\n",
       "    </tr>\n",
       "    <tr>\n",
       "      <th>Pickup Long</th>\n",
       "      <td>-33.153047</td>\n",
       "      <td>-33.181616</td>\n",
       "    </tr>\n",
       "    <tr>\n",
       "      <th>Destination Lat</th>\n",
       "      <td>21.581774</td>\n",
       "      <td>21.533232</td>\n",
       "    </tr>\n",
       "    <tr>\n",
       "      <th>Destination Long</th>\n",
       "      <td>-12.816730</td>\n",
       "      <td>-12.595859</td>\n",
       "    </tr>\n",
       "    <tr>\n",
       "      <th>rider_id</th>\n",
       "      <td>21.835696</td>\n",
       "      <td>21.951752</td>\n",
       "    </tr>\n",
       "    <tr>\n",
       "      <th>Fulfillment - Weekday (Su = 0)</th>\n",
       "      <td>78.980112</td>\n",
       "      <td>78.754398</td>\n",
       "    </tr>\n",
       "    <tr>\n",
       "      <th>Fulfillment - Day of Month</th>\n",
       "      <td>3.643558</td>\n",
       "      <td>3.560058</td>\n",
       "    </tr>\n",
       "    <tr>\n",
       "      <th>orders</th>\n",
       "      <td>-89.129723</td>\n",
       "      <td>-89.968440</td>\n",
       "    </tr>\n",
       "    <tr>\n",
       "      <th>age</th>\n",
       "      <td>-14.907015</td>\n",
       "      <td>-15.079122</td>\n",
       "    </tr>\n",
       "    <tr>\n",
       "      <th>average_rating</th>\n",
       "      <td>-24.429199</td>\n",
       "      <td>-24.285908</td>\n",
       "    </tr>\n",
       "    <tr>\n",
       "      <th>number_rating</th>\n",
       "      <td>68.295757</td>\n",
       "      <td>68.795390</td>\n",
       "    </tr>\n",
       "  </tbody>\n",
       "</table>\n",
       "</div>"
      ],
      "text/plain": [
       "                                        ols        ridge\n",
       "Personal or Business             -28.006401   -28.496408\n",
       "order_no                          -8.099513    -8.023540\n",
       "user_id                           16.932358    17.055464\n",
       "Platform Type                     64.044886    64.179394\n",
       "Placement - Day of Month           3.643558     3.560058\n",
       "Placement - Weekday (Mo = 1)     -60.964026   -60.727009\n",
       "Placement - Time                -581.824411  -584.946349\n",
       "Confirmation - Time            -1045.956770 -1006.334026\n",
       "Arrival at Pickup - Time        2998.760756  2932.011942\n",
       "Pickup - Time                  -1369.590988 -1339.283253\n",
       "Distance (KM)                    595.137811   595.137315\n",
       "Temperature                       15.731119    15.653679\n",
       "Pickup Lat                        11.408046    11.663610\n",
       "Pickup Long                      -33.153047   -33.181616\n",
       "Destination Lat                   21.581774    21.533232\n",
       "Destination Long                 -12.816730   -12.595859\n",
       "rider_id                          21.835696    21.951752\n",
       "Fulfillment - Weekday (Su = 0)    78.980112    78.754398\n",
       "Fulfillment - Day of Month         3.643558     3.560058\n",
       "orders                           -89.129723   -89.968440\n",
       "age                              -14.907015   -15.079122\n",
       "average_rating                   -24.429199   -24.285908\n",
       "number_rating                     68.295757    68.795390"
      ]
     },
     "execution_count": 12,
     "metadata": {},
     "output_type": "execute_result"
    }
   ],
   "source": [
    "pd.DataFrame({\n",
    "    'ols':olsmod.coef_, 'ridge':ridge.coef_\n",
    "}, index=X.columns)"
   ]
  },
  {
   "cell_type": "code",
   "execution_count": 13,
   "id": "597597dc",
   "metadata": {},
   "outputs": [
    {
     "data": {
      "text/plain": [
       "LassoCV(cv=100)"
      ]
     },
     "execution_count": 13,
     "metadata": {},
     "output_type": "execute_result"
    }
   ],
   "source": [
    "lasso = LassoCV(n_alphas=100, cv=100)\n",
    "lasso.fit(X=X, y=clean[\"Time from Pickup to Arrival\"])"
   ]
  },
  {
   "cell_type": "code",
   "execution_count": 14,
   "id": "95a04d73",
   "metadata": {},
   "outputs": [
    {
     "data": {
      "text/plain": [
       "0.5806626336730881"
      ]
     },
     "execution_count": 14,
     "metadata": {},
     "output_type": "execute_result"
    }
   ],
   "source": [
    "lasso.alpha_"
   ]
  },
  {
   "cell_type": "code",
   "execution_count": 15,
   "id": "07005c86",
   "metadata": {},
   "outputs": [
    {
     "data": {
      "text/plain": [
       "Personal or Business               -29.211831\n",
       "order_no                            -7.079930\n",
       "user_id                             17.175173\n",
       "Platform Type                       63.105909\n",
       "Placement - Day of Month             0.583743\n",
       "Placement - Weekday (Mo = 1)       -53.456526\n",
       "Placement - Time                  -614.421323\n",
       "Confirmation - Time               -751.413646\n",
       "Arrival at Pickup - Time          2569.194448\n",
       "Pickup - Time                    -1200.976436\n",
       "Distance (KM)                      594.571407\n",
       "Temperature                         14.432947\n",
       "Pickup Lat                          12.470923\n",
       "Pickup Long                        -32.361804\n",
       "Destination Lat                     20.537762\n",
       "Destination Long                   -10.748426\n",
       "rider_id                            22.046982\n",
       "Fulfillment - Weekday (Su = 0)      71.680056\n",
       "Fulfillment - Day of Month           5.034798\n",
       "orders                             -91.159367\n",
       "age                                -14.852583\n",
       "average_rating                     -22.883504\n",
       "number_rating                       67.129095\n",
       "dtype: float64"
      ]
     },
     "execution_count": 15,
     "metadata": {},
     "output_type": "execute_result"
    }
   ],
   "source": [
    "pd.Series(lasso.coef_, index=X.columns)"
   ]
  },
  {
   "cell_type": "code",
   "execution_count": 16,
   "id": "44c4ce77",
   "metadata": {},
   "outputs": [
    {
     "name": "stdout",
     "output_type": "stream",
     "text": [
      "OLS MSE: 545.9273608951255\n",
      "RFE MSE: 544.8771960693266\n",
      "Ridge MSE: 545.7661817781473\n",
      "Lasso MSE: 544.8874312249457\n"
     ]
    }
   ],
   "source": [
    "ridge_best = Ridge(alpha=ridge.alpha_)\n",
    "lasso_best = Lasso(alpha=lasso.alpha_)\n",
    "cv_ols = cross_val_score(estimator=olsmod, X=X, y=clean[\"Time from Pickup to Arrival\"], scoring=\"neg_mean_absolute_error\", cv=100)\n",
    "cv_rfe = cross_val_score(estimator=olsmod, X=X[X.columns[rfe.support_]], y=clean[\"Time from Pickup to Arrival\"], scoring=\"neg_mean_absolute_error\", cv=100)\n",
    "cv_ridge = cross_val_score(estimator=ridge_best, X=X, y=clean[\"Time from Pickup to Arrival\"], scoring=\"neg_mean_absolute_error\", cv=100)\n",
    "cv_lasso = cross_val_score(estimator=lasso_best, X=X, y=clean[\"Time from Pickup to Arrival\"], scoring=\"neg_mean_absolute_error\", cv=100)\n",
    "\n",
    "print('OLS MAE:', -cv_ols.mean())\n",
    "print('RFE MAE:', -cv_rfe.mean())\n",
    "print('Ridge MAE:', -cv_ridge.mean())\n",
    "print('Lasso MAE:', -cv_lasso.mean())"
   ]
  },
  {
   "cell_type": "markdown",
   "id": "1dd701c4",
   "metadata": {},
   "source": [
    "# Data Demolition"
   ]
  },
  {
   "cell_type": "markdown",
   "id": "d6a7a99e",
   "metadata": {},
   "source": [
    "How would our regressions be affected if we demolished some data?\n",
    "### Oh I'm glad you asked!"
   ]
  },
  {
   "cell_type": "code",
   "execution_count": 17,
   "id": "cbed3bba",
   "metadata": {},
   "outputs": [],
   "source": [
    "demo = clean"
   ]
  },
  {
   "cell_type": "code",
   "execution_count": 25,
   "id": "53c3b520",
   "metadata": {},
   "outputs": [
    {
     "data": {
      "text/plain": [
       "0       14.6\n",
       "1       14.3\n",
       "2       14.4\n",
       "3       14.4\n",
       "4       13.8\n",
       "        ... \n",
       "2115    12.7\n",
       "2116    14.2\n",
       "2117    14.3\n",
       "2118    13.8\n",
       "2119    14.2\n",
       "Name: average_rating, Length: 2120, dtype: float64"
      ]
     },
     "execution_count": 25,
     "metadata": {},
     "output_type": "execute_result"
    }
   ],
   "source": [
    "demo.dtypes\n",
    "demo.average_rating"
   ]
  },
  {
   "cell_type": "code",
   "execution_count": 20,
   "id": "35d1ac8d",
   "metadata": {},
   "outputs": [],
   "source": [
    "demo=demo.drop(columns=[\"Temperature\", \"rider_id\", \"age\"]) # dropped randomly selected columns"
   ]
  },
  {
   "cell_type": "code",
   "execution_count": 23,
   "id": "18ed6e29",
   "metadata": {},
   "outputs": [
    {
     "name": "stdout",
     "output_type": "stream",
     "text": [
      "Lasso MSE: 545.0075482121848\n"
     ]
    }
   ],
   "source": [
    "# Scaling data\n",
    "scaler = StandardScaler()\n",
    "X = scaler.fit_transform(demo[demo.columns[demo.columns!='Time from Pickup to Arrival']]) # all columns except time from pickup to arrival\n",
    "X = pd.DataFrame(X, columns = demo.columns[demo.columns!='Time from Pickup to Arrival']) # save to dataframe\n",
    "lasso = LassoCV(n_alphas=100, cv=100)\n",
    "lasso.fit(X=X, y=demo[\"Time from Pickup to Arrival\"])\n",
    "lasso_best = Lasso(alpha=lasso.alpha_)\n",
    "\n",
    "cv_lasso = cross_val_score(estimator=lasso_best, X=X, y=demo[\"Time from Pickup to Arrival\"], scoring=\"neg_mean_absolute_error\", cv=100)\n",
    "print('Lasso MAE:', -cv_lasso.mean())"
   ]
  },
  {
   "cell_type": "markdown",
   "id": "01074288",
   "metadata": {},
   "source": [
    "Ah! Our model is only damaged by an additional error of 0.12011698723! These columns must not have been very influential-- let's drop some more influential ones."
   ]
  },
  {
   "cell_type": "code",
   "execution_count": 26,
   "id": "524338c2",
   "metadata": {},
   "outputs": [],
   "source": [
    "demo=clean\n",
    "demo=demo.drop(columns=[\"Distance (KM)\", \"orders\", \"average_rating\"]) # dropped randomly selected columns"
   ]
  },
  {
   "cell_type": "code",
   "execution_count": 27,
   "id": "9fb9859e",
   "metadata": {},
   "outputs": [
    {
     "name": "stdout",
     "output_type": "stream",
     "text": [
      "Lasso MSE: 742.0418242996093\n"
     ]
    }
   ],
   "source": [
    "# Scaling data\n",
    "scaler = StandardScaler()\n",
    "X = scaler.fit_transform(demo[demo.columns[demo.columns!='Time from Pickup to Arrival']]) # all columns except time from pickup to arrival\n",
    "X = pd.DataFrame(X, columns = demo.columns[demo.columns!='Time from Pickup to Arrival']) # save to dataframe\n",
    "lasso = LassoCV(n_alphas=100, cv=100)\n",
    "lasso.fit(X=X, y=demo[\"Time from Pickup to Arrival\"]\n",
    "lasso_best = Lasso(alpha=lasso.alpha_)\n",
    "\n",
    "cv_lasso = cross_val_score(estimator=lasso_best, X=X, y=demo[\"Time from Pickup to Arrival\"], scoring=\"neg_mean_absolute_error\", cv=100)\n",
    "print('Lasso MSE:', -cv_lasso.mean())"
   ]
  },
  {
   "cell_type": "markdown",
   "id": "7b6b1261",
   "metadata": {},
   "source": [
    "There we go-- an increase in error of 197.154393075. These must be greatly impactful.\n",
    "\n",
    "What if we passed these through sin functions? "
   ]
  },
  {
   "cell_type": "code",
   "execution_count": 40,
   "id": "2f29daa9",
   "metadata": {},
   "outputs": [
    {
     "name": "stdout",
     "output_type": "stream",
     "text": [
      "Lasso MAE: 0.6397024786433453\n"
     ]
    }
   ],
   "source": [
    "demo = clean\n",
    "sin: np.sin\n",
    "demo=demo.apply(np.sin, columns=[\"Distance (KM)\", \"orders\", \"average_rating\"])\n",
    "# Scaling data\n",
    "scaler = StandardScaler()\n",
    "X = scaler.fit_transform(demo[demo.columns[demo.columns!='Time from Pickup to Arrival']]) # all columns except time from pickup to arrival\n",
    "X = pd.DataFrame(X, columns = demo.columns[demo.columns!='Time from Pickup to Arrival']) # save to dataframe\n",
    "lasso = LassoCV(n_alphas=100, cv=100)\n",
    "lasso.fit(X=X, y=demo[\"Time from Pickup to Arrival\"])\n",
    "lasso_best = Lasso(alpha=lasso.alpha_)\n",
    "\n",
    "cv_lasso = cross_val_score(estimator=lasso_best, X=X, y=demo[\"Time from Pickup to Arrival\"], scoring=\"neg_mean_absolute_error\", cv=100)\n",
    "print('Lasso MAE:', -cv_lasso.mean())"
   ]
  },
  {
   "cell_type": "markdown",
   "id": "bc066a84",
   "metadata": {},
   "source": [
    "Woah! Dropped dramatically. "
   ]
  }
 ],
 "metadata": {
  "kernelspec": {
   "display_name": "Python 3 (ipykernel)",
   "language": "python",
   "name": "python3"
  },
  "language_info": {
   "codemirror_mode": {
    "name": "ipython",
    "version": 3
   },
   "file_extension": ".py",
   "mimetype": "text/x-python",
   "name": "python",
   "nbconvert_exporter": "python",
   "pygments_lexer": "ipython3",
   "version": "3.9.13"
  }
 },
 "nbformat": 4,
 "nbformat_minor": 5
}
