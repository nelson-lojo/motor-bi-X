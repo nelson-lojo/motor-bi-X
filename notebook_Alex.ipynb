{
 "cells": [
  {
   "cell_type": "code",
   "execution_count": 60,
   "id": "90ea4e24",
   "metadata": {},
   "outputs": [],
   "source": [
    "# import all libraries\n",
    "import numpy as np\n",
    "import pandas as pd\n",
    "import matplotlib.pyplot as plt \n",
    "import seaborn as sns\n",
    "import re\n",
    "import missingno as msno\n",
    "\n",
    "from lib.preprocessing import *\n",
    "\n",
    "import sklearn\n",
    "from sklearn.model_selection import train_test_split\n",
    "from sklearn.preprocessing import MinMaxScaler\n",
    "from sklearn.preprocessing import PolynomialFeatures\n",
    "from sklearn.preprocessing import scale\n",
    "from sklearn.feature_selection import RFE\n",
    "from sklearn.feature_selection import RFECV\n",
    "from sklearn.linear_model import LinearRegression\n",
    "from sklearn.model_selection import cross_val_score\n",
    "from sklearn.model_selection import KFold\n",
    "from sklearn.model_selection import GridSearchCV\n",
    "from sklearn.pipeline import make_pipeline\n",
    "from sklearn.preprocessing import StandardScaler\n",
    "from sklearn.linear_model import RidgeCV\n",
    "from sklearn.linear_model import LassoCV\n",
    "from sklearn.linear_model import Ridge, Lasso\n",
    "from sklearn.metrics import mean_absolute_error\n",
    "\n",
    "import warnings # supress warnings\n",
    "warnings.filterwarnings('ignore')"
   ]
  },
  {
   "cell_type": "code",
   "execution_count": 11,
   "id": "262c0b0b",
   "metadata": {},
   "outputs": [],
   "source": [
    "riders = pd.read_csv(\"data/riders.csv\")\n",
    "sampsub = pd.read_csv(\"data/sample_submission.csv\")\n",
    "test = pd.read_csv(\"data/test.csv\")\n",
    "clean = load_sample(sql_db=\"data/cleaned_alex_emily_nelson.db\")"
   ]
  },
  {
   "cell_type": "code",
   "execution_count": 12,
   "id": "f2db6f6a",
   "metadata": {},
   "outputs": [],
   "source": [
    "clean.drop([\"Vehicle Type\"], axis=1, inplace=True)"
   ]
  },
  {
   "cell_type": "code",
   "execution_count": 13,
   "id": "b05fdd41",
   "metadata": {},
   "outputs": [],
   "source": [
    "def get_seconds_from_dt_series(series: pd.Series) -> pd.Series:\n",
    "        return pd.to_datetime(series).dt.hour * 3600 + pd.to_datetime(series).dt.minute * 60 + pd.to_datetime(series).dt.second\n",
    "    \n",
    "clean[\"Placement - Time\"]=get_seconds_from_dt_series(clean[\"Placement - Time\"])\n",
    "clean[\"Confirmation - Time\"]=get_seconds_from_dt_series(clean[\"Confirmation - Time\"])\n",
    "clean[\"Arrival at Pickup - Time\"]=get_seconds_from_dt_series(clean[\"Arrival at Pickup - Time\"])\n",
    "clean[\"Pickup - Time\"]=get_seconds_from_dt_series(clean[\"Pickup - Time\"])\n",
    "clean_one = pd.get_dummies(clean[\"Personal or Business\"])"
   ]
  },
  {
   "cell_type": "code",
   "execution_count": 57,
   "id": "476c57d0",
   "metadata": {},
   "outputs": [],
   "source": [
    "# display result\n",
    "clean = pd.concat((clean_one, clean), axis=1)\n",
    "clean = clean.drop([\"Personal or Business\"], axis=1)\n",
    "clean = clean.drop([\"Personal\"], axis=1)\n",
    "clean = clean.rename(columns={\"Business\": \"Personal or Business\"})"
   ]
  },
  {
   "cell_type": "code",
   "execution_count": 15,
   "id": "67767e11",
   "metadata": {},
   "outputs": [],
   "source": [
    "# Scaling data\n",
    "scaler = StandardScaler()\n",
    "X = scaler.fit_transform(clean[clean.columns[clean.columns!='Time from Pickup to Arrival']]) # all columns except time from pickup to arrival\n",
    "X = pd.DataFrame(X, columns = clean.columns[clean.columns!='Time from Pickup to Arrival']) # save to dataframe"
   ]
  },
  {
   "cell_type": "code",
   "execution_count": 29,
   "id": "dad81e76",
   "metadata": {},
   "outputs": [
    {
     "data": {
      "text/plain": [
       "Destination Lat                   -750.012597\n",
       "Pickup Long                       -254.540081\n",
       "Destination Long                  -182.516193\n",
       "Platform Type                      -35.005923\n",
       "average_rating                     -33.884939\n",
       "Placement - Weekday (Mo = 1)        -6.479837\n",
       "Placement - Day of Month            -2.420101\n",
       "Fulfillment - Day of Month          -2.420101\n",
       "Pickup - Time                       -0.173112\n",
       "Confirmation - Time                 -0.084699\n",
       "Placement - Time                    -0.061827\n",
       "orders                              -0.036953\n",
       "age                                 -0.023678\n",
       "user_id                             -0.019455\n",
       "rider_id                             0.002273\n",
       "order_no                             0.002699\n",
       "number_rating                        0.170925\n",
       "Arrival at Pickup - Time             0.317324\n",
       "Temperature                          5.206481\n",
       "Fulfillment - Weekday (Su = 0)      16.223473\n",
       "Personal or Business                49.724888\n",
       "Distance (KM)                       99.039840\n",
       "Pickup Lat                        1408.873882\n",
       "dtype: float64"
      ]
     },
     "execution_count": 29,
     "metadata": {},
     "output_type": "execute_result"
    }
   ],
   "source": [
    "# fitting model\n",
    "olsmod = LinearRegression()\n",
    "olsmod.fit(X=X, y=clean[\"Time from Pickup to Arrival\"])\n",
    "pd.Series(olsmod.coef_, index=X.columns).sort_values()"
   ]
  },
  {
   "cell_type": "code",
   "execution_count": 48,
   "id": "07a47de5",
   "metadata": {},
   "outputs": [
    {
     "name": "stdout",
     "output_type": "stream",
     "text": [
      "Selected 17 features:\n"
     ]
    },
    {
     "data": {
      "text/plain": [
       "Index(['Personal or Business', 'Platform Type', 'Placement - Day of Month',\n",
       "       'Placement - Weekday (Mo = 1)', 'Placement - Time',\n",
       "       'Confirmation - Time', 'Arrival at Pickup - Time', 'Pickup - Time',\n",
       "       'Distance (KM)', 'Temperature', 'Pickup Lat', 'Pickup Long',\n",
       "       'Destination Lat', 'Destination Long', 'Fulfillment - Weekday (Su = 0)',\n",
       "       'Fulfillment - Day of Month', 'average_rating'],\n",
       "      dtype='object')"
      ]
     },
     "execution_count": 48,
     "metadata": {},
     "output_type": "execute_result"
    }
   ],
   "source": [
    "# recursive feature elimination\n",
    "rfe = RFECV(estimator=olsmod, cv=100, scoring=\"neg_mean_squared_error\")\n",
    "rfe.fit(X=X, y=clean[\"Time from Pickup to Arrival\"])\n",
    "print('Selected', rfe.n_features_, 'features:')\n",
    "X.columns[rfe.support_]"
   ]
  },
  {
   "cell_type": "code",
   "execution_count": 49,
   "id": "ebee4888",
   "metadata": {},
   "outputs": [
    {
     "data": {
      "text/plain": [
       "RidgeCV(alphas=array([ 0.1,  1. , 10. ]), cv=100,\n",
       "        scoring='neg_mean_squared_error')"
      ]
     },
     "execution_count": 49,
     "metadata": {},
     "output_type": "execute_result"
    }
   ],
   "source": [
    "# Ridge Regression\n",
    "ridge=RidgeCV(alphas=[0.1, 1.0, 10.0], scoring=\"neg_mean_squared_error\", cv=100)\n",
    "ridge.fit(X=X, y=clean[\"Time from Pickup to Arrival\"])"
   ]
  },
  {
   "cell_type": "code",
   "execution_count": 50,
   "id": "ee044159",
   "metadata": {},
   "outputs": [
    {
     "data": {
      "text/plain": [
       "1.0"
      ]
     },
     "execution_count": 50,
     "metadata": {},
     "output_type": "execute_result"
    }
   ],
   "source": [
    "ridge.alpha_"
   ]
  },
  {
   "cell_type": "code",
   "execution_count": 51,
   "id": "f377c876",
   "metadata": {},
   "outputs": [
    {
     "data": {
      "text/html": [
       "<div>\n",
       "<style scoped>\n",
       "    .dataframe tbody tr th:only-of-type {\n",
       "        vertical-align: middle;\n",
       "    }\n",
       "\n",
       "    .dataframe tbody tr th {\n",
       "        vertical-align: top;\n",
       "    }\n",
       "\n",
       "    .dataframe thead th {\n",
       "        text-align: right;\n",
       "    }\n",
       "</style>\n",
       "<table border=\"1\" class=\"dataframe\">\n",
       "  <thead>\n",
       "    <tr style=\"text-align: right;\">\n",
       "      <th></th>\n",
       "      <th>ols</th>\n",
       "      <th>ridge</th>\n",
       "    </tr>\n",
       "  </thead>\n",
       "  <tbody>\n",
       "    <tr>\n",
       "      <th>Personal or Business</th>\n",
       "      <td>49.724888</td>\n",
       "      <td>53.707309</td>\n",
       "    </tr>\n",
       "    <tr>\n",
       "      <th>order_no</th>\n",
       "      <td>0.002699</td>\n",
       "      <td>0.002711</td>\n",
       "    </tr>\n",
       "    <tr>\n",
       "      <th>user_id</th>\n",
       "      <td>-0.019455</td>\n",
       "      <td>-0.018462</td>\n",
       "    </tr>\n",
       "    <tr>\n",
       "      <th>Platform Type</th>\n",
       "      <td>-35.005923</td>\n",
       "      <td>-37.919203</td>\n",
       "    </tr>\n",
       "    <tr>\n",
       "      <th>Placement - Day of Month</th>\n",
       "      <td>-2.420101</td>\n",
       "      <td>-2.441202</td>\n",
       "    </tr>\n",
       "    <tr>\n",
       "      <th>Placement - Weekday (Mo = 1)</th>\n",
       "      <td>-6.479837</td>\n",
       "      <td>-7.580231</td>\n",
       "    </tr>\n",
       "    <tr>\n",
       "      <th>Placement - Time</th>\n",
       "      <td>-0.061827</td>\n",
       "      <td>-0.060488</td>\n",
       "    </tr>\n",
       "    <tr>\n",
       "      <th>Confirmation - Time</th>\n",
       "      <td>-0.084699</td>\n",
       "      <td>-0.085388</td>\n",
       "    </tr>\n",
       "    <tr>\n",
       "      <th>Arrival at Pickup - Time</th>\n",
       "      <td>0.317324</td>\n",
       "      <td>0.318261</td>\n",
       "    </tr>\n",
       "    <tr>\n",
       "      <th>Pickup - Time</th>\n",
       "      <td>-0.173112</td>\n",
       "      <td>-0.174708</td>\n",
       "    </tr>\n",
       "    <tr>\n",
       "      <th>Distance (KM)</th>\n",
       "      <td>99.039840</td>\n",
       "      <td>98.715660</td>\n",
       "    </tr>\n",
       "    <tr>\n",
       "      <th>Temperature</th>\n",
       "      <td>5.206481</td>\n",
       "      <td>5.352242</td>\n",
       "    </tr>\n",
       "    <tr>\n",
       "      <th>Pickup Lat</th>\n",
       "      <td>1408.873882</td>\n",
       "      <td>886.302117</td>\n",
       "    </tr>\n",
       "    <tr>\n",
       "      <th>Pickup Long</th>\n",
       "      <td>-254.540081</td>\n",
       "      <td>-237.306744</td>\n",
       "    </tr>\n",
       "    <tr>\n",
       "      <th>Destination Lat</th>\n",
       "      <td>-750.012597</td>\n",
       "      <td>-502.460746</td>\n",
       "    </tr>\n",
       "    <tr>\n",
       "      <th>Destination Long</th>\n",
       "      <td>-182.516193</td>\n",
       "      <td>-131.820660</td>\n",
       "    </tr>\n",
       "    <tr>\n",
       "      <th>rider_id</th>\n",
       "      <td>0.002273</td>\n",
       "      <td>0.000413</td>\n",
       "    </tr>\n",
       "    <tr>\n",
       "      <th>Fulfillment - Weekday (Su = 0)</th>\n",
       "      <td>16.223473</td>\n",
       "      <td>17.348081</td>\n",
       "    </tr>\n",
       "    <tr>\n",
       "      <th>Fulfillment - Day of Month</th>\n",
       "      <td>-2.420101</td>\n",
       "      <td>-2.441202</td>\n",
       "    </tr>\n",
       "    <tr>\n",
       "      <th>orders</th>\n",
       "      <td>-0.036953</td>\n",
       "      <td>-0.037648</td>\n",
       "    </tr>\n",
       "    <tr>\n",
       "      <th>age</th>\n",
       "      <td>-0.023678</td>\n",
       "      <td>-0.023544</td>\n",
       "    </tr>\n",
       "    <tr>\n",
       "      <th>average_rating</th>\n",
       "      <td>-33.884939</td>\n",
       "      <td>-33.383056</td>\n",
       "    </tr>\n",
       "    <tr>\n",
       "      <th>number_rating</th>\n",
       "      <td>0.170925</td>\n",
       "      <td>0.171688</td>\n",
       "    </tr>\n",
       "  </tbody>\n",
       "</table>\n",
       "</div>"
      ],
      "text/plain": [
       "                                        ols       ridge\n",
       "Personal or Business              49.724888   53.707309\n",
       "order_no                           0.002699    0.002711\n",
       "user_id                           -0.019455   -0.018462\n",
       "Platform Type                    -35.005923  -37.919203\n",
       "Placement - Day of Month          -2.420101   -2.441202\n",
       "Placement - Weekday (Mo = 1)      -6.479837   -7.580231\n",
       "Placement - Time                  -0.061827   -0.060488\n",
       "Confirmation - Time               -0.084699   -0.085388\n",
       "Arrival at Pickup - Time           0.317324    0.318261\n",
       "Pickup - Time                     -0.173112   -0.174708\n",
       "Distance (KM)                     99.039840   98.715660\n",
       "Temperature                        5.206481    5.352242\n",
       "Pickup Lat                      1408.873882  886.302117\n",
       "Pickup Long                     -254.540081 -237.306744\n",
       "Destination Lat                 -750.012597 -502.460746\n",
       "Destination Long                -182.516193 -131.820660\n",
       "rider_id                           0.002273    0.000413\n",
       "Fulfillment - Weekday (Su = 0)    16.223473   17.348081\n",
       "Fulfillment - Day of Month        -2.420101   -2.441202\n",
       "orders                            -0.036953   -0.037648\n",
       "age                               -0.023678   -0.023544\n",
       "average_rating                   -33.884939  -33.383056\n",
       "number_rating                      0.170925    0.171688"
      ]
     },
     "execution_count": 51,
     "metadata": {},
     "output_type": "execute_result"
    }
   ],
   "source": [
    "pd.DataFrame({\n",
    "    'ols':olsmod.coef_, 'ridge':ridge.coef_\n",
    "}, index=X.columns)"
   ]
  },
  {
   "cell_type": "code",
   "execution_count": 52,
   "id": "5451ed00",
   "metadata": {},
   "outputs": [
    {
     "data": {
      "text/plain": [
       "LassoCV(cv=100)"
      ]
     },
     "execution_count": 52,
     "metadata": {},
     "output_type": "execute_result"
    }
   ],
   "source": [
    "lasso = LassoCV(n_alphas=100, cv=100)\n",
    "lasso.fit(X=X, y=clean[\"Time from Pickup to Arrival\"])"
   ]
  },
  {
   "cell_type": "code",
   "execution_count": 53,
   "id": "d55655ce",
   "metadata": {},
   "outputs": [
    {
     "data": {
      "text/plain": [
       "429.4572965948736"
      ]
     },
     "execution_count": 53,
     "metadata": {},
     "output_type": "execute_result"
    }
   ],
   "source": [
    "lasso.alpha_"
   ]
  },
  {
   "cell_type": "code",
   "execution_count": 54,
   "id": "7d78ba5b",
   "metadata": {},
   "outputs": [
    {
     "data": {
      "text/plain": [
       "Personal or Business               0.000000\n",
       "order_no                           0.002743\n",
       "user_id                           -0.017897\n",
       "Platform Type                     -0.000000\n",
       "Placement - Day of Month          -0.000000\n",
       "Placement - Weekday (Mo = 1)       0.000000\n",
       "Placement - Time                  -0.061676\n",
       "Confirmation - Time               -0.092462\n",
       "Arrival at Pickup - Time           0.316738\n",
       "Pickup - Time                     -0.164502\n",
       "Distance (KM)                     84.151284\n",
       "Temperature                        0.000000\n",
       "Pickup Lat                         0.000000\n",
       "Pickup Long                       -0.000000\n",
       "Destination Lat                   -0.000000\n",
       "Destination Long                   0.000000\n",
       "rider_id                           0.000143\n",
       "Fulfillment - Weekday (Su = 0)     0.000000\n",
       "Fulfillment - Day of Month        -0.000000\n",
       "orders                            -0.043686\n",
       "age                               -0.014748\n",
       "average_rating                    -0.000000\n",
       "number_rating                      0.180749\n",
       "dtype: float64"
      ]
     },
     "execution_count": 54,
     "metadata": {},
     "output_type": "execute_result"
    }
   ],
   "source": [
    "pd.Series(lasso.coef_, index=X.columns)"
   ]
  },
  {
   "cell_type": "code",
   "execution_count": 65,
   "id": "94eee679",
   "metadata": {},
   "outputs": [
    {
     "name": "stdout",
     "output_type": "stream",
     "text": [
      "OLS MSE: 541.4305024090005\n",
      "RFE MSE: 541.2211138429134\n",
      "Ridge MSE: 540.9267399216817\n",
      "Lasso MSE: 546.4358026759803\n"
     ]
    }
   ],
   "source": [
    "ridge_best = Ridge(alpha=ridge.alpha_)\n",
    "lasso_best = Lasso(alpha=lasso.alpha_)\n",
    "cv_ols = cross_val_score(estimator=olsmod, X=X, y=clean[\"Time from Pickup to Arrival\"], scoring=\"neg_mean_absolute_error\", cv=100)\n",
    "cv_rfe = cross_val_score(estimator=olsmod, X=X[X.columns[rfe.support_]], y=clean[\"Time from Pickup to Arrival\"], scoring=\"neg_mean_absolute_error\", cv=100)\n",
    "cv_ridge = cross_val_score(estimator=ridge_best, X=X, y=clean[\"Time from Pickup to Arrival\"], scoring=\"neg_mean_absolute_error\", cv=100)\n",
    "cv_lasso = cross_val_score(estimator=lasso_best, X=X, y=clean[\"Time from Pickup to Arrival\"], scoring=\"neg_mean_absolute_error\", cv=100)\n",
    "\n",
    "print('OLS MSE:', -cv_ols.mean())\n",
    "print('RFE MSE:', -cv_rfe.mean())\n",
    "print('Ridge MSE:', -cv_ridge.mean())\n",
    "print('Lasso MSE:', -cv_lasso.mean())"
   ]
  },
  {
   "cell_type": "code",
   "execution_count": null,
   "id": "622e40c3",
   "metadata": {},
   "outputs": [],
   "source": []
  }
 ],
 "metadata": {
  "kernelspec": {
   "display_name": "Python 3 (ipykernel)",
   "language": "python",
   "name": "python3"
  },
  "language_info": {
   "codemirror_mode": {
    "name": "ipython",
    "version": 3
   },
   "file_extension": ".py",
   "mimetype": "text/x-python",
   "name": "python",
   "nbconvert_exporter": "python",
   "pygments_lexer": "ipython3",
   "version": "3.9.13"
  }
 },
 "nbformat": 4,
 "nbformat_minor": 5
}
